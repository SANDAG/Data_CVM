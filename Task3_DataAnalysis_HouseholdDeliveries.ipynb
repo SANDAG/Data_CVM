{
 "cells": [
  {
   "cell_type": "markdown",
   "metadata": {},
   "source": [
    "### SANDAG Commercial Vehicle Model\n",
    "#### Task 3 -- Data Exploration for Design Decisions"
   ]
  },
  {
   "cell_type": "markdown",
   "metadata": {},
   "source": [
    "#### Household Deliveries of Food, Packages, and Service Stops "
   ]
  },
  {
   "cell_type": "code",
   "execution_count": null,
   "metadata": {},
   "outputs": [],
   "source": [
    "import numpy as np\n",
    "import pandas as pd\n",
    "import os\n",
    "# from matplotlib import pyplot as plt\n",
    "# from matplotlib import ticker"
   ]
  },
  {
   "cell_type": "code",
   "execution_count": null,
   "metadata": {},
   "outputs": [],
   "source": [
    "pd.set_option(\"display.max_rows\", None)"
   ]
  },
  {
   "cell_type": "code",
   "execution_count": null,
   "metadata": {},
   "outputs": [],
   "source": [
    "# Import file paths from script\n",
    "from FilePaths import *\n",
    "print(\"root_dir = \\n\", root_dir, \"\\n\")\n",
    "print(\"raw_data_dir = \\n\", raw_data_dir,\"\\n\")\n",
    "# print(\"proc_data_dir = \\n\", proc_data_dir,\"\\n\")"
   ]
  },
  {
   "cell_type": "code",
   "execution_count": null,
   "metadata": {},
   "outputs": [],
   "source": [
    "# Read input data -- establishment file\n",
    "df_days = pd.read_csv(os.path.join(root_dir,\n",
    "                                      raw_data_dir,\n",
    "                                      r\"HHTS\\export_day_weights.csv\"))\n",
    "df_days.set_index('day_id')\n",
    "df_days.info()\n",
    "df_days.head()"
   ]
  },
  {
   "cell_type": "code",
   "execution_count": null,
   "metadata": {},
   "outputs": [],
   "source": [
    "# Filter only eligible participants and weekdays (Mon-Thu)\n",
    "df_days = df_days[(df_days['is_participant']>0) & (df_days['travel_dow'].isin([1,2,3,4]))]\n",
    "df_days.head()"
   ]
  },
  {
   "cell_type": "markdown",
   "metadata": {},
   "source": [
    "#### Delivery Variable Definitions\n",
    "\n",
    "- delivery_2:  Delivery on travel day: Food was delivered to home (e.g., take-out, groceries)\n",
    "- delivery_3:  Delivery on travel day: Someone came to do work at home (e.g., landscaping, plumber, housecleaning)\n",
    "- delivery_5:  Delivery on travel day: Received package AT HOME (e.g., USPS, FedEx, UPS)\n",
    "- delivery_6:  Delivery on travel day: Received personal packages AT WORK\n",
    "- delivery_7:  Delivery on travel day: Received packages at OFFSITE LOCKER (e.g., Amazon locker, package pick-up point)\n",
    "- delivery_8:  Delivery on travel day: Other item delivered to home (e.g., appliance)\n",
    "- delivery_996:  Delivery on travel day: None of the above"
   ]
  },
  {
   "cell_type": "code",
   "execution_count": null,
   "metadata": {},
   "outputs": [],
   "source": [
    "cols = [col for col in df_days.columns if \"delivery_\" in col]\n",
    "\n",
    "# Recode non-responses '995' as zeros\n",
    "for col in cols:\n",
    "    df_days.loc[df_days[col]>1, col] = 0\n",
    "\n",
    "cols = cols + ['day_weight']\n",
    "df_deliv = df_days.groupby(['hh_id','day_num'])[cols].max().reset_index()\n",
    "df_deliv.head()"
   ]
  },
  {
   "cell_type": "code",
   "execution_count": null,
   "metadata": {},
   "outputs": [],
   "source": [
    "for col in cols:\n",
    "    if \"delivery_\" in col:\n",
    "        print(f\"{col}: {df_deliv[df_deliv[col]==1][col].sum()}\")"
   ]
  },
  {
   "cell_type": "code",
   "execution_count": null,
   "metadata": {},
   "outputs": [],
   "source": [
    "# Recode\n",
    "df_deliv['Food'] = (df_deliv['delivery_2']==1).astype('int32')*df_deliv['day_weight']\n",
    "df_deliv['Service'] = (df_deliv['delivery_3']==1).astype('int32')*df_deliv['day_weight']\n",
    "df_deliv['Package'] = ((df_deliv['delivery_5']==1) | (df_deliv['delivery_8']==1)).astype('int32')*df_deliv['day_weight']\n",
    "use_cols = ['Food', 'Service', 'Package']"
   ]
  },
  {
   "cell_type": "code",
   "execution_count": null,
   "metadata": {},
   "outputs": [],
   "source": [
    "df_deliv.head(5)"
   ]
  },
  {
   "cell_type": "code",
   "execution_count": null,
   "metadata": {},
   "outputs": [],
   "source": [
    "print(\"Household days observed food, service or package received at home\")\n",
    "print(df_deliv[use_cols].sum().map('{:,.0f}'.format).to_string())\n",
    "print(\"\\n\")\n",
    "print(\"Household percent of days food, service or package received at home\")\n",
    "print(round(df_deliv[use_cols].sum()/df_deliv['day_weight'].sum(),3))"
   ]
  },
  {
   "cell_type": "code",
   "execution_count": null,
   "metadata": {},
   "outputs": [],
   "source": [
    "# This should equal 1,189,195 households\n",
    "print(\"This should equal 1,189,195 households:\")\n",
    "print(f\"{df_deliv['day_weight'].sum():,.0f}\")"
   ]
  },
  {
   "cell_type": "code",
   "execution_count": null,
   "metadata": {},
   "outputs": [],
   "source": [
    "38/57\n"
   ]
  },
  {
   "cell_type": "code",
   "execution_count": null,
   "metadata": {},
   "outputs": [],
   "source": []
  }
 ],
 "metadata": {
  "kernelspec": {
   "display_name": "base",
   "language": "python",
   "name": "python3"
  },
  "language_info": {
   "codemirror_mode": {
    "name": "ipython",
    "version": 3
   },
   "file_extension": ".py",
   "mimetype": "text/x-python",
   "name": "python",
   "nbconvert_exporter": "python",
   "pygments_lexer": "ipython3",
   "version": "3.12.7"
  }
 },
 "nbformat": 4,
 "nbformat_minor": 2
}
