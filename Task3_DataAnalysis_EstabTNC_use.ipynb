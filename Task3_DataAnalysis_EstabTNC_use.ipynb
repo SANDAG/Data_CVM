{
 "cells": [
  {
   "cell_type": "markdown",
   "metadata": {},
   "source": [
    "### SANDAG Commercial Vehicle Model\n",
    "#### Task 3 -- Data Exploration for Design Decisions"
   ]
  },
  {
   "cell_type": "markdown",
   "metadata": {},
   "source": [
    "#### Establishment TNC Use"
   ]
  },
  {
   "cell_type": "code",
   "execution_count": null,
   "metadata": {},
   "outputs": [],
   "source": [
    "import numpy as np\n",
    "import pandas as pd\n",
    "import os\n",
    "# from matplotlib import pyplot as plt\n",
    "# from matplotlib import ticker"
   ]
  },
  {
   "cell_type": "code",
   "execution_count": null,
   "metadata": {},
   "outputs": [],
   "source": [
    "pd.set_option(\"display.max_rows\", None)"
   ]
  },
  {
   "cell_type": "code",
   "execution_count": null,
   "metadata": {
    "scrolled": true
   },
   "outputs": [],
   "source": [
    "# Import file paths from script\n",
    "from FilePaths import *\n",
    "print(\"root_dir = \\n\", root_dir, \"\\n\")\n",
    "print(\"raw_data_dir = \\n\", raw_data_dir,\"\\n\")\n",
    "print(\"proc_data_dir = \\n\", proc_data_dir,\"\\n\")\n",
    "print(\"lookup_dir = \\n\", lookup_dir,\"\\n\")"
   ]
  },
  {
   "cell_type": "markdown",
   "metadata": {},
   "source": [
    "#### Read in establishment file and create expansion weights"
   ]
  },
  {
   "cell_type": "code",
   "execution_count": null,
   "metadata": {},
   "outputs": [],
   "source": [
    "# Read input data -- establishment file\n",
    "df_estab = pd.read_excel(os.path.join(root_dir,\n",
    "                                      raw_data_dir,\n",
    "                                      r\"CVS\\SANDAG 2022 CV DataBase & Dictionaires_03_03_2023.xlsx\"),\n",
    "                                     sheet_name=r\"Establishment Data\")\n",
    "\n",
    "df_estab.set_index('company_id')\n",
    "df_estab.head()"
   ]
  },
  {
   "cell_type": "code",
   "execution_count": null,
   "metadata": {},
   "outputs": [],
   "source": [
    "df_estab.loc[:, 'emp_total'] = df_estab['employees_fulltime_count'] + df_estab['employees_parttime_count']"
   ]
  },
  {
   "cell_type": "markdown",
   "metadata": {},
   "source": [
    "#### Read in file from CVS survey weighting report -- Most likely number of establishments by Industry"
   ]
  },
  {
   "cell_type": "code",
   "execution_count": null,
   "metadata": {},
   "outputs": [],
   "source": [
    "df_expand = pd.read_excel(os.path.join(root_dir,\n",
    "                                      raw_data_dir,\n",
    "                                      r\"CVS\\CVS_EstabExpansion.xlsx\"),\n",
    "                                     sheet_name=r\"CVS_Expansion_Totals\")\n",
    "df_expand.info()\n",
    "df_expand.SectorID.fillna(0, inplace=True)"
   ]
  },
  {
   "cell_type": "code",
   "execution_count": null,
   "metadata": {},
   "outputs": [],
   "source": [
    "df_expand"
   ]
  },
  {
   "cell_type": "code",
   "execution_count": null,
   "metadata": {},
   "outputs": [],
   "source": [
    "# Create dictionary for establishment expansion targets\n",
    "expandEstab = dict()\n",
    "expandEstab['Emp_0_9'] = dict(zip(df_expand['SectorID'],df_expand['Emp_0_9']))\n",
    "expandEstab['Emp_10p'] = dict(zip(df_expand['SectorID'],df_expand['Emp_10p']))\n",
    "expandEstab"
   ]
  },
  {
   "cell_type": "code",
   "execution_count": null,
   "metadata": {},
   "outputs": [],
   "source": [
    "# Add establishment population-level estimates (targets)\n",
    "df_estab.loc[df_estab['emp_total']<=9, 'emp_lt10'] = 1\n",
    "df_estab.loc[df_estab['emp_total']>9, 'emp_lt10'] = 0\n",
    "df_estab['emp_lt10'] = df_estab['emp_lt10'].astype(int)\n",
    "\n",
    "df_estab.loc[df_estab['emp_total']<=9, \\\n",
    "             'region_estab_wght'] = df_estab['base_location_Industry Group'].map(expandEstab['Emp_0_9'])\n",
    "\n",
    "df_estab.loc[df_estab['emp_total']>9, \\\n",
    "             'region_estab_wght'] = df_estab['base_location_Industry Group'].map(expandEstab['Emp_10p'])\n",
    "\n",
    "df_estab['region_estab_wght'] = df_estab['region_estab_wght'].astype('int64')\n",
    "#df_estab[['emp_total','base_location_Industry Group','emp_lt10','region_estab_wght']].head()"
   ]
  },
  {
   "cell_type": "code",
   "execution_count": null,
   "metadata": {},
   "outputs": [],
   "source": [
    "# Calculate Establishment Weights\n",
    "estab_weights = df_estab.groupby(['region_estab_wght']).size().reset_index(name='num_estabs')\n",
    "estab_weights['estab_exp_weight'] = estab_weights['region_estab_wght'] / estab_weights['num_estabs']\n",
    "estab_weights = dict(zip(estab_weights['region_estab_wght'],estab_weights['estab_exp_weight']))"
   ]
  },
  {
   "cell_type": "code",
   "execution_count": null,
   "metadata": {},
   "outputs": [],
   "source": [
    "df_estab.loc[:,'estab_exp_weight'] = df_estab['region_estab_wght'].map(estab_weights)\n",
    "df_estab[['emp_total','base_location_Industry Group','emp_lt10','region_estab_wght','estab_exp_weight']].head(10)\n",
    "df_estab = df_estab.drop(['region_estab_wght'], axis=1)"
   ]
  },
  {
   "cell_type": "code",
   "execution_count": null,
   "metadata": {},
   "outputs": [],
   "source": [
    "# Finalize Establishment Weights in Table\n",
    "estab_wts = round(df_estab.groupby(['base_location_Industry Group','emp_lt10'])['estab_exp_weight'].mean().reset_index(),3)\n",
    "print(estab_wts.to_string(index=False))"
   ]
  },
  {
   "cell_type": "markdown",
   "metadata": {},
   "source": [
    "#### Find TNC Usage Rates by Establishment Industries"
   ]
  },
  {
   "cell_type": "code",
   "execution_count": null,
   "metadata": {},
   "outputs": [],
   "source": [
    "indus_lookup = {\n",
    "    1: \"Agriculture/Mining\",\n",
    "    2: \"Manufacturing\",\n",
    "    3: \"Industrial/Utilities\",\n",
    "    4: \"Retail\",\n",
    "    5: \"Wholesale\",\n",
    "    6: \"Construction\",\n",
    "    7: \"Transportation\",\n",
    "    8: \"Info/Finance/Insurance/Real Estate/Professional services\",\n",
    "    9: \"Education/Public/Other services\",\n",
    "    10: \"Medical/Health Services\",\n",
    "    11: \"Leisure/Accommodations and Food\",\n",
    "    96: \"Other/Non-Classified\"\n",
    "}\n"
   ]
  },
  {
   "cell_type": "code",
   "execution_count": null,
   "metadata": {},
   "outputs": [],
   "source": [
    "# Create short names for industries\n",
    "ind_abrv = {\n",
    "    1: \"AGM\",\n",
    "    6: \"CON\",\n",
    "    9: \"EPO\",\n",
    "    3: \"IUT\",\n",
    "    8: \"IFR\",\n",
    "    11: \"LAF\",\n",
    "    2: \"MFG\",\n",
    "    10: \"MHS\",\n",
    "    4: \"RET\",\n",
    "    7: \"TRN\",\n",
    "    5: \"WHL\",\n",
    "    96: \"ONC\"\n",
    "}"
   ]
  },
  {
   "cell_type": "code",
   "execution_count": null,
   "metadata": {},
   "outputs": [],
   "source": [
    "delivTNC = df_estab[df_estab['is_use_tnc']==1].groupby(['base_location_Industry Group']).sum()['no_of_from_deliveries_pcsuvpu'].reset_index(name='delivTNC')\n",
    "delivTNC"
   ]
  },
  {
   "cell_type": "code",
   "execution_count": null,
   "metadata": {},
   "outputs": [],
   "source": [
    "# TNC Usage Rates (raw)\n",
    "useTNC = df_estab[df_estab['is_use_tnc']==1].groupby(['base_location_Industry Group']).size().reset_index(name='useTNC')\n",
    "delivTNC = df_estab[df_estab['is_use_tnc']==1].groupby(['base_location_Industry Group']).sum()['no_of_from_deliveries_pcsuvpu'].reset_index(name='delivTNC').astype('int64')\n",
    "\n",
    "allEstab = df_estab.groupby(['base_location_Industry Group']).size().reset_index(name='totEstab')\n",
    "allEstab[\"IndustryGroup\"] = allEstab['base_location_Industry Group'].map(indus_lookup)\n",
    "TNC_Industry = allEstab.set_index('base_location_Industry Group').join(useTNC.set_index('base_location_Industry Group'))\n",
    "TNC_Industry = TNC_Industry.join(delivTNC.set_index('base_location_Industry Group'))\n",
    "TNC_Industry.loc[:,'IndusAbbrv'] = TNC_Industry.index.map(ind_abrv)\n",
    "\n",
    "# Reorder columns\n",
    "TNC_Industry = TNC_Industry[['IndustryGroup', 'useTNC', 'delivTNC', 'totEstab']]\n",
    "\n",
    "# Calculate rates\n",
    "TNC_Industry['pctUseTNC'] = TNC_Industry['useTNC'] / TNC_Industry['totEstab']\n",
    "TNC_Industry['pctUseTNC'] = TNC_Industry['pctUseTNC'].map('{:.2%}'.format)\n",
    "TNC_Industry['rateDelTNC'] = TNC_Industry['delivTNC'] / TNC_Industry['totEstab']\n",
    "TNC_Industry['rateDelTNC'] = TNC_Industry['rateDelTNC'].map('{:5.3f}'.format)\n",
    "\n",
    "print(\"Unweighted Establishment Observations\")\n",
    "print(\"\\nNote: 'rateDelTNC' = delivery trips per day per establishment in industry\\n\")\n",
    "print(TNC_Industry.to_string(index=False))"
   ]
  },
  {
   "cell_type": "code",
   "execution_count": null,
   "metadata": {},
   "outputs": [],
   "source": [
    "# TNC Usage Rates (weighted)\n",
    "useTNC = df_estab[df_estab['is_use_tnc']==1].groupby(['base_location_Industry Group']).sum()['estab_exp_weight'].reset_index(name='useTNC')\n",
    "df_estab.loc[df_estab['is_use_tnc']==1, 'wghtd_from_deliveries_pcsuvpu'] = df_estab['estab_exp_weight'] * df_estab['no_of_from_deliveries_pcsuvpu']\n",
    "df_estab['wghtd_employment'] = df_estab['estab_exp_weight'] * df_estab['emp_total']\n",
    "delivTNC = df_estab[df_estab['is_use_tnc']==1].groupby(['base_location_Industry Group']).sum()['wghtd_from_deliveries_pcsuvpu'].reset_index(name='delivTNC').astype('int64')\n",
    "\n",
    "empIfUseTNC = df_estab[df_estab['is_use_tnc']==1].groupby(['base_location_Industry Group']).sum()['wghtd_employment'].reset_index(name='empIfUseTNC').astype('int64')\n",
    "empAll = df_estab.groupby(['base_location_Industry Group']).sum()['wghtd_employment'].reset_index(name='empAll').astype('int64')\n",
    "#empAll[\"IndustryGroup\"] = empAll['base_location_Industry Group'].map(indus_lookup)\n",
    "\n",
    "allEstab = df_estab.groupby(['base_location_Industry Group']).sum()['estab_exp_weight'].reset_index(name='totEstab')\n",
    "allEstab[\"IndustryGroup\"] = allEstab['base_location_Industry Group'].map(indus_lookup)\n",
    "TNC_Industry = allEstab.set_index('base_location_Industry Group').join(useTNC.set_index('base_location_Industry Group'))\n",
    "TNC_Industry = TNC_Industry.join(delivTNC.set_index('base_location_Industry Group'))\n",
    "TNC_Industry = TNC_Industry.join(empIfUseTNC.set_index('base_location_Industry Group'))\n",
    "TNC_Industry = TNC_Industry.join(empAll.set_index('base_location_Industry Group'))\n",
    "TNC_Industry.loc[:,'IndusAbbrv'] = TNC_Industry.index.map(ind_abrv)\n",
    "\n",
    "# Reorder columns\n",
    "TNC_Industry = TNC_Industry[['IndusAbbrv', 'useTNC', 'delivTNC', 'empIfUseTNC', 'empAll', 'totEstab']]\n",
    "\n",
    "TNC_Industry['pctUseTNC'] = TNC_Industry['useTNC'] / TNC_Industry['totEstab']\n",
    "TNC_Totals = pd.DataFrame(TNC_Industry[['useTNC', 'delivTNC', 'empIfUseTNC', 'empAll', 'totEstab']].sum().map('{:.0f}'.format)).T\n",
    "TNC_Industry['rateDelTNC'] = TNC_Industry['delivTNC'] / TNC_Industry['totEstab']\n",
    "TNC_Industry['delivEmpIfTNC'] = TNC_Industry['delivTNC'] / TNC_Industry['empIfUseTNC']\n",
    "\n",
    "NonRestRetl = pd.DataFrame(TNC_Industry[(TNC_Industry.index!=4) & (TNC_Industry.index!=11)]\\\n",
    "                             [['useTNC','delivTNC','empIfUseTNC','empAll','totEstab']].copy().sum()).T\n",
    "NonRestRetl['pctUseTNC'] = NonRestRetl['useTNC'] / NonRestRetl['totEstab']\n",
    "NonRestRetl['rateDelTNC'] = NonRestRetl['delivTNC'] / NonRestRetl['totEstab']\n",
    "NonRestRetl['delivEmpIfTNC'] = NonRestRetl['delivTNC'] / NonRestRetl['empIfUseTNC']\n",
    "\n",
    "TNC_Industry['useTNC'] = TNC_Industry['useTNC'].map('{:.0f}'.format)\n",
    "TNC_Industry['delivTNC'] = TNC_Industry['delivTNC'].map('{:.0f}'.format)\n",
    "TNC_Industry['totEstab'] = TNC_Industry['totEstab'].map('{:.0f}'.format)\n",
    "TNC_Industry['empIfUseTNC'] = TNC_Industry['empIfUseTNC'].map('{:.0f}'.format)\n",
    "TNC_Industry['empAll'] = TNC_Industry['empAll'].map('{:.0f}'.format)\n",
    "TNC_Industry['pctUseTNC'] = TNC_Industry['pctUseTNC'].map('{:.5f}'.format)\n",
    "TNC_Industry['rateDelTNC'] = TNC_Industry['rateDelTNC'].map('{:.5f}'.format)\n",
    "TNC_Industry['delivEmpIfTNC'] = TNC_Industry['delivEmpIfTNC'].map('{:.5f}'.format)\n",
    "\n",
    "NonRestRetl['useTNC'] = NonRestRetl['useTNC'].map('{:.0f}'.format)\n",
    "NonRestRetl['delivTNC'] = NonRestRetl['delivTNC'].map('{:.0f}'.format)\n",
    "NonRestRetl['totEstab'] = NonRestRetl['totEstab'].map('{:.0f}'.format)\n",
    "NonRestRetl['empIfUseTNC'] = NonRestRetl['empIfUseTNC'].map('{:.0f}'.format)\n",
    "NonRestRetl['empAll'] = NonRestRetl['empAll'].map('{:.0f}'.format)\n",
    "NonRestRetl['pctUseTNC'] = NonRestRetl['pctUseTNC'].map('{:.5f}'.format)\n",
    "NonRestRetl['rateDelTNC'] = NonRestRetl['rateDelTNC'].map('{:.5f}'.format)\n",
    "NonRestRetl['delivEmpIfTNC'] = NonRestRetl['delivEmpIfTNC'].map('{:.5f}'.format)\n",
    "NonRestRetl['type'] = 'NonRestRetl'\n",
    "\n",
    "print(\"Weighted Establishment Observations\")\n",
    "print(\"\\nNote: 'rateDelTNC' = delivery trips per day per establishment in industry\\n\")\n",
    "print(TNC_Industry.to_string(index=False))\n",
    "print(\"\\nAll Establishment Totals:\")\n",
    "print(TNC_Totals.to_string(index=False))"
   ]
  },
  {
   "cell_type": "code",
   "execution_count": null,
   "metadata": {},
   "outputs": [],
   "source": [
    "empAll[\"IndustryGroup\"] = empAll['base_location_Industry Group'].map(indus_lookup)\n",
    "empAll"
   ]
  },
  {
   "cell_type": "code",
   "execution_count": null,
   "metadata": {},
   "outputs": [],
   "source": [
    "# Create table for Restaurant and Non-Restaurant Types\n",
    "usecols = ['useTNC', 'delivTNC', 'empIfUseTNC', 'empAll', 'totEstab', 'pctUseTNC', 'rateDelTNC', 'delivEmpIfTNC']\n",
    "\n",
    "Retail = TNC_Industry[TNC_Industry.index==4].reset_index()\n",
    "Retail = Retail[usecols]\n",
    "Retail['type'] = 'Retail'\n",
    "\n",
    "Restaurant = TNC_Industry[TNC_Industry.index==11].reset_index()\n",
    "Restaurant = Restaurant[usecols]\n",
    "Restaurant['type'] = 'Restaurant'"
   ]
  },
  {
   "cell_type": "code",
   "execution_count": null,
   "metadata": {},
   "outputs": [],
   "source": [
    "# Create combined table of usage rates by three industry groups\n",
    "usecols = ['type', 'useTNC', 'delivTNC', 'empIfUseTNC','empAll','totEstab', 'pctUseTNC', 'rateDelTNC', 'delivEmpIfTNC'] #re-order\n",
    "TNC_Industry3 = pd.concat([NonRestRetl, Restaurant, Retail], axis=0, sort=False).reset_index().drop(['index'], axis=1)\n",
    "TNC_Industry3 = TNC_Industry3[usecols].set_index('type')\n",
    "\n",
    "print(\"TNC Usage Rates by Three Primary Groups\\n\")\n",
    "print(TNC_Industry3.to_string(index=True))"
   ]
  },
  {
   "cell_type": "code",
   "execution_count": null,
   "metadata": {},
   "outputs": [],
   "source": [
    ".44129 * 84497 * 0.01715"
   ]
  },
  {
   "cell_type": "markdown",
   "metadata": {},
   "source": [
    "#### Read in TNC establishment-level records (driver summaries)"
   ]
  },
  {
   "cell_type": "code",
   "execution_count": null,
   "metadata": {},
   "outputs": [],
   "source": [
    "# Read input data -- TNC establishment file\n",
    "df_tnc_driver = pd.read_excel(os.path.join(root_dir, raw_data_dir,\n",
    "                                      r\"TNC\\TNC Travel Survey_Data Submittal_1-19-23.xlsx\"),\n",
    "                                     sheet_name=r\"Establishment Data\")\n",
    "\n",
    "df_tnc_driver.set_index('company_id')\n",
    "df_tnc_driver.head(3).T"
   ]
  },
  {
   "cell_type": "code",
   "execution_count": null,
   "metadata": {},
   "outputs": [],
   "source": [
    "df_tnc_driver = df_tnc_driver[['company_id','company_name','number_of_trips']]\n",
    "df_tnc_driver = df_tnc_driver.rename(columns = {'company_name': 'client_app'})\n",
    "df_tnc_driver.head()"
   ]
  },
  {
   "cell_type": "code",
   "execution_count": null,
   "metadata": {},
   "outputs": [],
   "source": [
    "# Read input data -- lookup table for TNC client categories\n",
    "df_lookup = pd.read_excel(os.path.join(root_dir, lookup_dir,\n",
    "                                      r\"Lookups_v8.xlsx\"),\n",
    "                                     sheet_name=r\"TNC Categories\")\n",
    "df_lookup.head()"
   ]
  },
  {
   "cell_type": "code",
   "execution_count": null,
   "metadata": {},
   "outputs": [],
   "source": [
    "df_lookup[\"company_name2\"] = df_lookup[\"company_name_alt\"].str.strip().str.lower().str.replace(\" \",\"\")"
   ]
  },
  {
   "cell_type": "code",
   "execution_count": null,
   "metadata": {},
   "outputs": [],
   "source": [
    "TNC_IndCat = dict(zip(df_lookup['company_name2'],df_lookup['TNC_IndCat3']))\n",
    "TNC_IndCat"
   ]
  },
  {
   "cell_type": "code",
   "execution_count": null,
   "metadata": {},
   "outputs": [],
   "source": [
    "df_tnc_driver['client_app2'] = df_tnc_driver['client_app'].str.strip().str.lower().str.replace(\" \",\"\")\n",
    "df_tnc_driver.loc[:,'IndCat3'] = df_tnc_driver['client_app2'].map(TNC_IndCat)\n",
    "df_tnc_driver.head()"
   ]
  },
  {
   "cell_type": "code",
   "execution_count": null,
   "metadata": {},
   "outputs": [],
   "source": [
    "# Read input data -- TNC trips\n",
    "df_tnc_trips = pd.read_excel(os.path.join(root_dir, raw_data_dir,\n",
    "                                      r\"TNC\\TNC Travel Survey_Data Submittal_1-19-23.xlsx\"),\n",
    "                                     sheet_name=r\"Trips\")\n",
    "\n",
    "df_tnc_trips.set_index('company_id')\n",
    "df_tnc_trips.head()"
   ]
  },
  {
   "cell_type": "code",
   "execution_count": null,
   "metadata": {},
   "outputs": [],
   "source": [
    "# Sum number of client pickup stops for each driver (total unique clients)\n",
    "temp = df_tnc_trips[df_tnc_trips['activity_type']==6].groupby(['company_id',\\\n",
    "                                                                        'location_placename',\\\n",
    "                                                                        'location_address']).size().reset_index(name='clientPickups')\n",
    "clientPickups = temp.groupby(['company_id']).count()\n",
    "clientPickups = clientPickups['clientPickups'].reset_index()\n",
    "clientPickups.head()"
   ]
  },
  {
   "cell_type": "code",
   "execution_count": null,
   "metadata": {},
   "outputs": [],
   "source": [
    "# Sum number of home dropoffs for each driver\n",
    "homeDropoffs = df_tnc_trips[(df_tnc_trips['activity_type']==5) &\\\n",
    "                           (df_tnc_trips['placetype']==11)].groupby(['company_id']).size().reset_index(name='homeDropoffs')\n",
    "homeDropoffs.head()"
   ]
  },
  {
   "cell_type": "code",
   "execution_count": null,
   "metadata": {},
   "outputs": [],
   "source": [
    "# Sum number of business dropoffs for each driver\n",
    "bizDropoffs = df_tnc_trips[(df_tnc_trips['activity_type']==5) &\\\n",
    "                           (df_tnc_trips['placetype']!=11)].groupby(['company_id']).size().reset_index(name='businessDropoffs')\n",
    "bizDropoffs.head()"
   ]
  },
  {
   "cell_type": "code",
   "execution_count": null,
   "metadata": {},
   "outputs": [],
   "source": [
    "df_tnc_driver = df_tnc_driver.merge(clientPickups, how='left', on='company_id')\n",
    "df_tnc_driver.head()"
   ]
  },
  {
   "cell_type": "code",
   "execution_count": null,
   "metadata": {},
   "outputs": [],
   "source": [
    "df_tnc_driver = df_tnc_driver.merge(homeDropoffs, how='left', on='company_id')\n",
    "df_tnc_driver.head()"
   ]
  },
  {
   "cell_type": "code",
   "execution_count": null,
   "metadata": {},
   "outputs": [],
   "source": [
    "df_tnc_driver = df_tnc_driver.merge(bizDropoffs, how='left', on='company_id')\n",
    "df_tnc_driver.head()"
   ]
  },
  {
   "cell_type": "code",
   "execution_count": null,
   "metadata": {},
   "outputs": [],
   "source": [
    "# Calculate TNC Driver Pickups by Industry Category\n",
    "tnc_by_client = df_tnc_driver.groupby('IndCat3').sum()['clientPickups'].reset_index(name='clientPickups')\n",
    "tnc_by_client.set_index('IndCat3')"
   ]
  },
  {
   "cell_type": "code",
   "execution_count": null,
   "metadata": {},
   "outputs": [],
   "source": [
    "# Calculate TNC Home Dropoffs by Industry Category\n",
    "tnc_by_homedel = df_tnc_driver.groupby('IndCat3').sum()['homeDropoffs'].reset_index(name='homeDropoffs')\n",
    "tnc_by_homedel.set_index('IndCat3')"
   ]
  },
  {
   "cell_type": "code",
   "execution_count": null,
   "metadata": {},
   "outputs": [],
   "source": [
    "# Calculate TNC Business Dropoffs by Industry Category\n",
    "tnc_by_bizdel = df_tnc_driver.groupby('IndCat3').sum()['businessDropoffs'].reset_index(name='businessDropoffs')\n",
    "tnc_by_bizdel.set_index('IndCat3')"
   ]
  },
  {
   "cell_type": "code",
   "execution_count": null,
   "metadata": {},
   "outputs": [],
   "source": [
    "# Calculate TNC Weights\n",
    "tnc_weights = tnc_by_client.merge(TNC_Industry3, left_on='IndCat3', right_on='type')\n",
    "\n",
    "tnc_weights['tnc_expwght'] = tnc_weights['delivTNC'].str.replace(\",\",\"\").astype(float) \\\n",
    "/ tnc_weights['clientPickups'].astype(float)\n",
    "\n",
    "tnc_weights['clientPickups'] = tnc_weights['clientPickups'].map('{:,.0f}'.format)\n",
    "\n",
    "tnc_weights['tnc_expwght'] = round(tnc_weights['tnc_expwght'],5)\n",
    "print(tnc_weights[['IndCat3','clientPickups','delivTNC','tnc_expwght']].to_string(index=False))"
   ]
  },
  {
   "cell_type": "code",
   "execution_count": null,
   "metadata": {},
   "outputs": [],
   "source": [
    "# Create TNC expansion weights dictionary\n",
    "tnc_expwght = dict(zip(tnc_weights['IndCat3'],tnc_weights['tnc_expwght']))\n",
    "df_tnc_driver.loc[:, 'tnc_expwght'] = df_tnc_driver['IndCat3'].map(tnc_expwght)"
   ]
  },
  {
   "cell_type": "code",
   "execution_count": null,
   "metadata": {},
   "outputs": [],
   "source": [
    "tnc_expwght"
   ]
  },
  {
   "cell_type": "code",
   "execution_count": null,
   "metadata": {},
   "outputs": [],
   "source": [
    "# Calculate impact on total trips\n",
    "df_tnc_driver['wghtd_trips'] = df_tnc_driver['number_of_trips'] * df_tnc_driver['tnc_expwght']\n",
    "\n",
    "tnc_summary = pd.DataFrame(df_tnc_driver[['number_of_trips','wghtd_trips']].sum()).T\n",
    "tnc_summary['number_of_trips'] = tnc_summary['number_of_trips'].map('{:,.0f}'.format)\n",
    "tnc_summary['wghtd_trips'] = tnc_summary['wghtd_trips'].map('{:,.0f}'.format)\n",
    "tnc_summary.rename(columns={'number_of_trips': 'raw_trips'}, inplace=True)\n",
    "\n",
    "print(\"Impact of TNC weights expansion on Total TNC trips\\n\")\n",
    "print(tnc_summary.to_string(index=False))"
   ]
  },
  {
   "cell_type": "code",
   "execution_count": null,
   "metadata": {},
   "outputs": [],
   "source": [
    "df_tnc_driver.to_csv(os.path.join(root_dir,\n",
    "                                      raw_data_dir,\n",
    "                                      r\"TNC\\TNC_weighted.csv\"))"
   ]
  },
  {
   "cell_type": "code",
   "execution_count": null,
   "metadata": {},
   "outputs": [],
   "source": [
    "# Get weighted number of trips and average per driver-route\n",
    "df_tnc_driver['wghtd_client_picks'] = df_tnc_driver['clientPickups'] * df_tnc_driver['tnc_expwght']\n",
    "df_tnc_driver['wghtd_home_delivs'] = df_tnc_driver['homeDropoffs'] * df_tnc_driver['tnc_expwght']\n",
    "df_tnc_driver['wghtd_biz_delivs'] = df_tnc_driver['businessDropoffs'] * df_tnc_driver['tnc_expwght']"
   ]
  },
  {
   "cell_type": "code",
   "execution_count": null,
   "metadata": {},
   "outputs": [],
   "source": [
    "# Client pickups by TNCs\n",
    "clientPickups = df_tnc_driver.groupby(['IndCat3']).sum()['wghtd_client_picks']\n",
    "clientPickups = pd.DataFrame(clientPickups.map('{:,.0f}'.format))\n",
    "print(clientPickups.T.to_string(index=False))"
   ]
  },
  {
   "cell_type": "code",
   "execution_count": null,
   "metadata": {},
   "outputs": [],
   "source": [
    "# Calculate deliveries to households by TNCs -- food (retaurant+groceries), non-food parcels\n",
    "homeDeliveries = df_tnc_driver.groupby(['IndCat3']).sum()['wghtd_home_delivs']\n",
    "food = homeDeliveries['Restaurant']+homeDeliveries['Retail']\n",
    "homeDeliveries = pd.DataFrame(homeDeliveries.map('{:,.0f}'.format))\n",
    "\n",
    "print(homeDeliveries.T.to_string(index=False))\n",
    "print(\"\\nFood Deliveries = Restaurant + Retail\")\n",
    "print(f\"\\t{food:,.0f}\")"
   ]
  },
  {
   "cell_type": "code",
   "execution_count": null,
   "metadata": {},
   "outputs": [],
   "source": [
    "# Calculate deliveries to businesses by TNCs\n",
    "clientPickups = df_tnc_driver.groupby(['IndCat3']).sum()['wghtd_biz_delivs']\n",
    "clientPickups = pd.DataFrame(clientPickups.map('{:,.0f}'.format))\n",
    "print(clientPickups.T.to_string(index=False))"
   ]
  },
  {
   "cell_type": "code",
   "execution_count": null,
   "metadata": {},
   "outputs": [],
   "source": [
    "# Clients per Driver Route\n",
    "clientPickups = df_tnc_driver.groupby(['IndCat3']).sum()['wghtd_client_picks'] \\\n",
    "/ df_tnc_driver.groupby(['IndCat3']).sum()['tnc_expwght']\n",
    "clientPickups = pd.DataFrame(clientPickups.map('{:,.4f}'.format))\n",
    "print(\"Clients per driver route:\")\n",
    "print(clientPickups.T.to_string(index=False))\n",
    "\n",
    "# Driver routes\n",
    "driverRoutes = df_tnc_driver.groupby(['IndCat3']).sum()['tnc_expwght']\n",
    "driverRoutes['Total'] = driverRoutes.sum()\n",
    "driverRoutes = pd.DataFrame(driverRoutes.map('{:.0f}'.format))\n",
    "print(\"\\nDriver routes (weighted)\")\n",
    "print(driverRoutes.T.to_string(index=False))"
   ]
  },
  {
   "cell_type": "markdown",
   "metadata": {},
   "source": [
    "#### Get TNC Route Generation (routes = drivers)"
   ]
  },
  {
   "cell_type": "code",
   "execution_count": null,
   "metadata": {},
   "outputs": [],
   "source": [
    "# Driver Routes Per Client Establishment using TNCs\n",
    "driversPerClient = df_tnc_driver.groupby(['IndCat3']).sum()['tnc_expwght'] \\\n",
    "/ df_tnc_driver.groupby(['IndCat3']).sum()['wghtd_client_picks']\n",
    "driversPerClient = pd.DataFrame(driversPerClient.map('{:.5f}'.format))\n",
    "driversPerClient.rename(columns={0:'drivers_per_client'}, inplace=True)\n",
    "\n",
    "print(\"Driver Routes per Client Establishment using TNCs:\")\n",
    "print(driversPerClient.T.to_string(index=False))"
   ]
  },
  {
   "cell_type": "code",
   "execution_count": null,
   "metadata": {},
   "outputs": [],
   "source": [
    "# Merge with establishment data\n",
    "tncRouteGen = pd.merge(driversPerClient.astype('float').reset_index(),\n",
    "                       TNC_Industry3.astype('float').reset_index(),\n",
    "                       how='left', left_on='IndCat3', right_on='type')\n",
    "\n",
    "tncRouteGen = tncRouteGen[['IndCat3','pctUseTNC','rateDelTNC', 'delivEmpIfTNC','drivers_per_client']]"
   ]
  },
  {
   "cell_type": "code",
   "execution_count": null,
   "metadata": {},
   "outputs": [],
   "source": [
    "tncRouteGen"
   ]
  },
  {
   "cell_type": "code",
   "execution_count": null,
   "metadata": {},
   "outputs": [],
   "source": [
    "TNC_Industry3"
   ]
  },
  {
   "cell_type": "code",
   "execution_count": null,
   "metadata": {},
   "outputs": [],
   "source": [
    "27532 * 0.02088 * 0.61184"
   ]
  },
  {
   "cell_type": "code",
   "execution_count": null,
   "metadata": {},
   "outputs": [],
   "source": [
    "print(\"\\nDriver routes (weighted)\")\n",
    "print(driverRoutes.T.to_string(index=False))"
   ]
  },
  {
   "cell_type": "code",
   "execution_count": null,
   "metadata": {},
   "outputs": [],
   "source": [
    "# Create employment based rates\n",
    "routeGenRates = pd.merge(driverRoutes.astype('float').reset_index(),\n",
    "                         TNC_Industry3[['empAll']].astype('float').reset_index(),\n",
    "                         how='inner', left_on='IndCat3', right_on='type').drop(columns=['type'])\n",
    "\n",
    "routeGenRates.rename(columns={'tnc_expwght': 'routes_wtd', 'empAll': 'employment_wtd'}, inplace=True)\n",
    "routeGenRates.loc[4] = routeGenRates.sum()\n",
    "routeGenRates.loc[routeGenRates.index[-1], 'IndCat3'] = \"Totals\"\n",
    "routeGenRates['routes_per_emp'] = routeGenRates['routes_wtd'] / routeGenRates['employment_wtd']\n",
    "routeGenRates"
   ]
  },
  {
   "cell_type": "markdown",
   "metadata": {},
   "source": [
    "#### Calibrate Route Gen"
   ]
  },
  {
   "cell_type": "code",
   "execution_count": null,
   "metadata": {},
   "outputs": [],
   "source": [
    "# Read land use data\n",
    "df_MGRA = pd.read_csv(os.path.join(root_dir,\n",
    "                                      raw_data_dir,\n",
    "                                      r\"Land_Use\\mgra15_based_input_2022_02_cvm.csv\"))\n",
    "df_MGRA.head()"
   ]
  },
  {
   "cell_type": "code",
   "execution_count": null,
   "metadata": {},
   "outputs": [],
   "source": [
    "# Create short names for industries\n",
    "indus_abrv = {\n",
    "    1: \"AGM\",\n",
    "    2: \"MFG\",\n",
    "    3: \"IUT\",\n",
    "    4: \"RET\",\n",
    "    5: \"WHL\",\n",
    "    6: \"CON\",\n",
    "    7: \"TRN\",\n",
    "    8: \"IFR\",\n",
    "    9: \"EPO\",\n",
    "    10: \"MHS\",\n",
    "    11: \"LAF\",\n",
    "    12: \"MIL\"\n",
    "}\n",
    "\n",
    "# Reverse lookup\n",
    "abrv_indus = dict(zip(list(indus_abrv.values()), list(indus_abrv.keys())))\n",
    "\n",
    "# Cross walk between MGRA employment and model employment categories\n",
    "emp_mgra_to_model = {\n",
    "    1:[\"emp_ag_min\"],\n",
    "    2:[\"emp_mnf\"],\n",
    "    3:[\"emp_utl\"],\n",
    "    4:[\"emp_ret\"],\n",
    "    5:[\"emp_whl\"],\n",
    "    6:[\"emp_con\"],\n",
    "    7:[\"emp_trn_wrh\"],\n",
    "    8:[\"emp_fin_res_mgm\",\"emp_bus_svcs\"],\n",
    "    9:[\"emp_educ\",\"emp_gov\",\"emp_oth\",\"emp_ent\",\"emp_accm\"],\n",
    "    10:[\"emp_hlth\"],\n",
    "    11:[\"emp_food\"],\n",
    "    12:[\"emp_mil\"]\n",
    "}\n",
    "\n",
    "# Reverse lookup\n",
    "emp_survey_to_mgra = dict()\n",
    "for key, values in emp_mgra_to_model.items():\n",
    "    for v in values:\n",
    "        emp_survey_to_mgra[v] = key\n",
    "#emp_survey_to_mgra"
   ]
  },
  {
   "cell_type": "code",
   "execution_count": null,
   "metadata": {},
   "outputs": [],
   "source": [
    "# Bucket round function\n",
    "def bucketRound(arr, thr=0.5):\n",
    "    if isinstance(arr, list) or isinstance(arr, np.ndarray):\n",
    "        arr = np.asarray(arr).astype('float')\n",
    "        out = np.zeros(len(arr)).astype('int64')\n",
    "        bucket = float(0)\n",
    "        for i in range(len(arr)):\n",
    "            out[i] = int(arr[i])\n",
    "            bucket += arr[i]%1\n",
    "            if bucket > thr:\n",
    "                out[i] += 1\n",
    "                bucket = 0\n",
    "        return out\n",
    "    else:\n",
    "        print(arr)\n",
    "        print(\"Error: Function requires inputs as an array or list of values.\")"
   ]
  },
  {
   "cell_type": "code",
   "execution_count": null,
   "metadata": {},
   "outputs": [],
   "source": [
    "# Select only relevant employment fields\n",
    "use_columns = [col for col in df_MGRA.columns if 'emp_' in col]\n",
    "#[use_columns.remove(x) for x in ['emp_non_ws_wfh','emp_non_ws_oth','emp_tot']]\n",
    "\n",
    "# Create new dataframe and identify model sectors\n",
    "df_MGRA_emp = pd.DataFrame(df_MGRA[use_columns].sum()).rename(columns={0:'mgra_jobs'})\n",
    "df_MGRA_emp.loc[:, 'emp_group_no'] = df_MGRA_emp.index.map(emp_survey_to_mgra)\n",
    "df_MGRA_emp.loc[:, 'emp_mod_sector'] = df_MGRA_emp.emp_group_no.map(indus_abrv)\n",
    "df_MGRA_emp.fillna(0, inplace=True)\n",
    "\n",
    "# Identify TNC3 sectors\n",
    "df_MGRA_emp['IndCat3'] = 'NonRestRetl'\n",
    "df_MGRA_emp.loc[df_MGRA_emp['emp_group_no'] == 11, 'IndCat3'] = 'Restaurant'\n",
    "df_MGRA_emp.loc[df_MGRA_emp['emp_group_no'] == 4, 'IndCat3'] = 'Retail'\n",
    "df_MGRA_emp.loc[df_MGRA_emp['emp_group_no'] == 0, 'IndCat3'] = 'None'\n",
    "df_MGRA_emp"
   ]
  },
  {
   "cell_type": "code",
   "execution_count": null,
   "metadata": {},
   "outputs": [],
   "source": [
    "# Collect jobs summaries by model sectors\n",
    "mgraEmpCat3 = pd.DataFrame(df_MGRA_emp[df_MGRA_emp['emp_group_no']>0].groupby(['IndCat3'])['mgra_jobs'].sum()).reset_index()\n",
    "mgraEmpCat3.loc['Totals'] = mgraEmpCat3.sum()['mgra_jobs']\n",
    "mgraEmpCat3"
   ]
  },
  {
   "cell_type": "code",
   "execution_count": null,
   "metadata": {},
   "outputs": [],
   "source": [
    "# Adjust Rates to match MGRA mix of employment, which is different from CVS x TNC survey\n",
    "routeGenRates = routeGenRates.merge(mgraEmpCat3, how='inner', on='IndCat3')\n",
    "routeGenRates.loc[:, 'routes_per_emp_adj1'] = routeGenRates['routes_per_emp'] * routeGenRates['employment_wtd'] / routeGenRates['mgra_jobs']\n",
    "routeGenRates.loc[:, 'routes_calibrated'] = routeGenRates['routes_per_emp_adj1'] * routeGenRates['mgra_jobs']\n",
    "routeGenRates"
   ]
  },
  {
   "cell_type": "code",
   "execution_count": null,
   "metadata": {},
   "outputs": [],
   "source": [
    "# Apply to MGRAs and adjust for rounding\n",
    "test_retail = pd.DataFrame(df_MGRA.groupby(['LUZ'])['emp_ret','emp_non_ws_wfh','emp_non_ws_oth'].sum()).reset_index()\n",
    "test_retail.loc[:, 'tnc_routes'] = routeGenRates.iloc[2][\"routes_per_emp_adj1\"] * test_retail['emp_ret']\n",
    "test_retail.loc[:, 'tnc_routes'] = np.round(test_retail['tnc_routes'].values)\n",
    "\n",
    "out_retail = test_retail['tnc_routes'].sum()\n",
    "factor = routeGenRates.iloc[2][\"routes_wtd\"] / out_retail\n",
    "routeGenRates[\"routes_per_emp_calib\"] = 0\n",
    "routeGenRates.iloc[2, routeGenRates.columns.get_loc(\"routes_per_emp_calib\")] = routeGenRates.iloc[2][\"routes_per_emp_adj1\"] * factor\n",
    "test_retail.loc[:, 'tnc_routes'] = routeGenRates.iloc[2][\"routes_per_emp_calib\"] * test_retail['emp_ret']\n",
    "test_retail.loc[:, 'tnc_routes'] = np.round(test_retail['tnc_routes'].values)\n",
    "\n",
    "routeGenRates.iloc[2, routeGenRates.columns.get_loc(\"routes_calibrated\")] = test_retail['tnc_routes'].sum()\n",
    "test_retail['tnc_routes'].sum()\n",
    "# test_retail[test_retail['tnc_routes']>0]"
   ]
  },
  {
   "cell_type": "code",
   "execution_count": null,
   "metadata": {},
   "outputs": [],
   "source": [
    "df_MGRA.loc[:, 'emp_laf'] = df_MGRA['emp_food']# + df_MGRA['emp_ent'] + df_MGRA['emp_accm']\n",
    "test_restaurant = pd.DataFrame(df_MGRA.groupby(['LUZ'])['emp_laf','emp_non_ws_wfh','emp_non_ws_oth'].sum()).reset_index()\n",
    "test_restaurant.loc[:, 'tnc_routes'] = routeGenRates.iloc[1][\"routes_per_emp_adj1\"] * test_restaurant['emp_laf']\n",
    "test_restaurant.loc[:, 'tnc_routes'] = np.round(test_restaurant['tnc_routes'].values)\n",
    "\n",
    "out_restaurant = test_restaurant['tnc_routes'].sum()\n",
    "factor = routeGenRates.iloc[1][\"routes_wtd\"] / out_restaurant\n",
    "routeGenRates.iloc[1, routeGenRates.columns.get_loc(\"routes_per_emp_calib\")] = routeGenRates.iloc[1][\"routes_per_emp_adj1\"] * factor\n",
    "test_restaurant.loc[:, 'tnc_routes'] = routeGenRates.iloc[1][\"routes_per_emp_calib\"] * test_restaurant['emp_laf']\n",
    "test_restaurant.loc[:, 'tnc_routes'] = np.round(test_restaurant['tnc_routes'].values)\n",
    "\n",
    "routeGenRates.iloc[1, routeGenRates.columns.get_loc(\"routes_calibrated\")] = test_restaurant['tnc_routes'].sum()\n",
    "test_restaurant['tnc_routes'].sum()\n",
    "# test_restaurant[test_restaurant['tnc_routes']>0]"
   ]
  },
  {
   "cell_type": "code",
   "execution_count": null,
   "metadata": {},
   "outputs": [],
   "source": [
    "df_MGRA.loc[:, 'emp_NonRR'] = df_MGRA['emp_tot'] - df_MGRA['emp_laf'] - df_MGRA['emp_ret'] - df_MGRA['emp_non_ws_wfh'] - df_MGRA['emp_non_ws_oth']\n",
    "test_nonrr = pd.DataFrame(df_MGRA.groupby(['LUZ'])['emp_NonRR','emp_non_ws_wfh','emp_non_ws_oth'].sum()).reset_index()\n",
    "test_nonrr.loc[:, 'tnc_routes'] = routeGenRates.iloc[0][\"routes_per_emp_adj1\"] * test_nonrr['emp_NonRR']\n",
    "test_nonrr.loc[:, 'tnc_routes'] = np.round(test_nonrr['tnc_routes'].values)\n",
    "\n",
    "out_nonrr = test_nonrr['tnc_routes'].sum()\n",
    "factor = routeGenRates.iloc[0][\"routes_wtd\"] / out_nonrr\n",
    "routeGenRates.iloc[0, routeGenRates.columns.get_loc(\"routes_per_emp_calib\")] = routeGenRates.iloc[0][\"routes_per_emp_adj1\"] * factor\n",
    "test_nonrr.loc[:, 'tnc_routes'] = routeGenRates.iloc[0][\"routes_per_emp_calib\"] * test_nonrr['emp_NonRR']\n",
    "test_nonrr.loc[:, 'tnc_routes'] = np.round(test_nonrr['tnc_routes'].values)\n",
    "\n",
    "routeGenRates.iloc[0, routeGenRates.columns.get_loc(\"routes_calibrated\")] = test_nonrr['tnc_routes'].sum()\n",
    "test_nonrr['tnc_routes'].sum()\n",
    "# test_nonrr[test_nonrr['tnc_routes']>0]"
   ]
  },
  {
   "cell_type": "code",
   "execution_count": null,
   "metadata": {},
   "outputs": [],
   "source": [
    "# Send to CSV\n",
    "model_path = \"Task05_Estimation_Calibration/Estimation/Route_Gen\"\n",
    "routeGenRates['routes_per_emp_calib'] = np.round(routeGenRates['routes_per_emp_calib'], 7)\n",
    "routeGenRates[['IndCat3','routes_wtd','routes_per_emp_calib']].to_csv(os.path.join(root_dir, model_path, \"TNC_RouteGenRates.csv\"), index=False)"
   ]
  },
  {
   "cell_type": "raw",
   "metadata": {},
   "source": [
    "# Format for printing\n",
    "routeGenRates['routes_wtd'] = routeGenRates['routes_wtd'].map('{:,.0f}'.format)\n",
    "routeGenRates['employment_wtd'] = routeGenRates['employment_wtd'].map('{:,.0f}'.format)\n",
    "routeGenRates['mgra_jobs'] = routeGenRates['mgra_jobs'].map('{:,.0f}'.format)\n",
    "routeGenRates['routes_calibrated'] = routeGenRates['routes_calibrated'].map('{:,.0f}'.format)\n",
    "routeGenRates"
   ]
  },
  {
   "cell_type": "code",
   "execution_count": null,
   "metadata": {},
   "outputs": [],
   "source": []
  }
 ],
 "metadata": {
  "kernelspec": {
   "display_name": "base",
   "language": "python",
   "name": "python3"
  },
  "language_info": {
   "codemirror_mode": {
    "name": "ipython",
    "version": 3
   },
   "file_extension": ".py",
   "mimetype": "text/x-python",
   "name": "python",
   "nbconvert_exporter": "python",
   "pygments_lexer": "ipython3",
   "version": "3.12.7"
  }
 },
 "nbformat": 4,
 "nbformat_minor": 2
}
