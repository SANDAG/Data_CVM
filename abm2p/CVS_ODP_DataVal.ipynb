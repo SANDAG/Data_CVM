{
 "cells": [
  {
   "cell_type": "code",
   "execution_count": null,
   "metadata": {},
   "outputs": [],
   "source": [
    "import pandas as pd\n",
    "import os\n",
    "\n",
    "cvs_fp = r'C:\\Users\\iya\\Dev\\CVM\\CVS\\2022'\n",
    "cvs_tour_fn = r'sandag_cvs_tour.xlsx'\n",
    "tnc_tour_fn = r'sandag_tnc_tour.xlsx'\n",
    "cvs_df_fn = r'cv_20221102_sandag_draftfinal.xlsx'\n",
    "db_fn = r'SANDAG 2022 CV DataBase & Dictionaires_03_03_2023.xlsx'\n",
    "\n",
    "pd.options.display.float_format = '{:20,.2f}'.format\n",
    "\n",
    "establishment_data = pd.read_excel(os.path.join(cvs_fp, db_fn), sheet_name='Establishment Data')\n",
    "trip_data = pd.read_excel(os.path.join(cvs_fp, db_fn), sheet_name='Trip Data')\n",
    "tour_data = pd.read_excel(os.path.join(cvs_fp, cvs_tour_fn), sheet_name='sandag_cvs_tour')\n",
    "veh_data = pd.read_excel(os.path.join(cvs_fp, db_fn), sheet_name='Vehicle Data')"
   ]
  },
  {
   "cell_type": "code",
   "execution_count": null,
   "metadata": {},
   "outputs": [],
   "source": [
    "tour_data['com_veh_dri_tri'] = tour_data[\n",
    "    ['company_id', 'vehicle_id', 'driver_id', 'trip_number']\n",
    "    ].astype(str).agg('-'.join, axis=1)\n",
    "\n",
    "trip_data['com_veh_dri_tri'] = trip_data[\n",
    "    ['company_id', 'vehicle_id', 'driver_id', 'trip_number']\n",
    "    ].astype(str).agg('-'.join, axis=1)"
   ]
  },
  {
   "cell_type": "code",
   "execution_count": null,
   "metadata": {},
   "outputs": [],
   "source": [
    "def custom_lambda(x):\n",
    "    vals = tour_data[tour_data.com_veh_dri_tri == x]['TRAVEL_DISTANCE'].values\n",
    "    if len(vals) == 1: return vals[0]\n",
    "    elif len(vals) == 2:\n",
    "        if vals[1] != vals[1]:\n",
    "            if vals[0] == vals[0]: return vals[0]\n",
    "            else: print(f'trips with conflicting distances: {x}')\n",
    "        else: print(f'trips with conflicting distances: {x}')\n",
    "    else: print(f'trips with more than two assigned distances: {x}')\n",
    "\n",
    "trip_data['trip_dis'] = trip_data.com_veh_dri_tri.apply(\n",
    "    lambda x: custom_lambda(x)\n",
    "    )"
   ]
  },
  {
   "cell_type": "code",
   "execution_count": null,
   "metadata": {},
   "outputs": [],
   "source": []
  },
  {
   "cell_type": "code",
   "execution_count": null,
   "metadata": {},
   "outputs": [],
   "source": [
    "a = tour_data.vehicle_id.astype(str)+'_'+tour_data.TOUR_NUM.astype(str)+\\\n",
    "    '_'+ tour_data.STOP_SEQ.astype(str)\n",
    "a.nunique()"
   ]
  },
  {
   "cell_type": "code",
   "execution_count": null,
   "metadata": {},
   "outputs": [],
   "source": []
  },
  {
   "cell_type": "code",
   "execution_count": null,
   "metadata": {},
   "outputs": [],
   "source": []
  },
  {
   "cell_type": "code",
   "execution_count": null,
   "metadata": {},
   "outputs": [],
   "source": [
    "trip_data = trip_data.merge(\n",
    "    veh_data[['vehicle_classification', 'id']],\n",
    "    left_on='vehicle_id',\n",
    "    right_on='id',\n",
    "    validate='many_to_one',\n",
    "    how='left'\n",
    "    )\n",
    "trip_data = trip_data[trip_data.vehicle_classification != 4]"
   ]
  },
  {
   "cell_type": "code",
   "execution_count": null,
   "metadata": {},
   "outputs": [],
   "source": [
    "trip_data_ = trip_data[trip_data.arrival_time.notna()]\n"
   ]
  },
  {
   "cell_type": "code",
   "execution_count": null,
   "metadata": {},
   "outputs": [],
   "source": [
    "trip = trip_data_.merge(establishment_data[\n",
    "    ['company_id', 'base_location_Industry Group']\n",
    "    ], on='company_id', how='left')\n",
    "trip = trip[trip.vehicle_classification != 4]\n",
    "gc = trip[\n",
    "    ['base_location_Industry Group', 'Most Likely Estimate Weight Factor']\n",
    "    ].groupby('base_location_Industry Group').sum()\n",
    "gc"
   ]
  },
  {
   "cell_type": "code",
   "execution_count": null,
   "metadata": {},
   "outputs": [],
   "source": [
    "gc.reset_index()['Most Likely Estimate Weight Factor'].sum()"
   ]
  },
  {
   "cell_type": "code",
   "execution_count": null,
   "metadata": {},
   "outputs": [],
   "source": [
    "len(trip_data_) #matches"
   ]
  },
  {
   "cell_type": "code",
   "execution_count": null,
   "metadata": {},
   "outputs": [],
   "source": [
    "max(tour_id) #matches"
   ]
  },
  {
   "cell_type": "code",
   "execution_count": null,
   "metadata": {},
   "outputs": [],
   "source": [
    "tour_id = []\n",
    "counter = 0\n",
    "start, end = tour_data['TOUR_START'], tour_data['TOUR_END']\n",
    "\n",
    "started, ended, prev = False, False, (None, None)\n",
    "for se in list(zip(start, end)):\n",
    "    if se == (True, False):\n",
    "        started, ended = True, False\n",
    "        counter += 1\n",
    "    elif se == (False, True):\n",
    "        started, ended = False, True\n",
    "    # if ended and not started: counter += 1\n",
    "    tour_id.append(counter)"
   ]
  },
  {
   "cell_type": "code",
   "execution_count": null,
   "metadata": {},
   "outputs": [],
   "source": [
    "tour_data = tour_data.merge(establishment_data[\n",
    "    ['company_id', 'base_location_Industry Group']\n",
    "    ], on='company_id', how='left')"
   ]
  },
  {
   "cell_type": "code",
   "execution_count": null,
   "metadata": {},
   "outputs": [],
   "source": [
    "tour_data['tour_id'] = tour_id\n",
    "\n",
    "light, med, hvy = list(range(1, 4)), list(range(5, 8)), [4, 8]\n",
    "def classing(num):\n",
    "    if num in light: return 'light'\n",
    "    elif num in med: return 'med'\n",
    "    else: return 'hvy'\n",
    "tour_data['VehClass_name'] = tour_data.VehClass.apply(lambda x: classing(x))"
   ]
  },
  {
   "cell_type": "code",
   "execution_count": null,
   "metadata": {},
   "outputs": [],
   "source": [
    "trip_data[trip_data.]"
   ]
  },
  {
   "cell_type": "code",
   "execution_count": null,
   "metadata": {},
   "outputs": [],
   "source": []
  },
  {
   "cell_type": "code",
   "execution_count": null,
   "metadata": {},
   "outputs": [],
   "source": []
  },
  {
   "cell_type": "code",
   "execution_count": null,
   "metadata": {},
   "outputs": [],
   "source": []
  },
  {
   "cell_type": "code",
   "execution_count": null,
   "metadata": {},
   "outputs": [],
   "source": []
  },
  {
   "cell_type": "code",
   "execution_count": null,
   "metadata": {},
   "outputs": [],
   "source": [
    "tour_data_ = tour_data[tour_data.VehClass_name == 'hvy']\n",
    "\n",
    "tour_data_[['tour_id','Most.Likely.Estimate.Weight.Factor']].groupby('tour_id').max().reset_index()['Most.Likely.Estimate.Weight.Factor'].sum()"
   ]
  },
  {
   "cell_type": "code",
   "execution_count": null,
   "metadata": {},
   "outputs": [],
   "source": [
    "tour_data_[['tour_id','Most.Likely.Estimate.Weight.Factor']].drop_duplicates()['Most.Likely.Estimate.Weight.Factor'].sum()"
   ]
  },
  {
   "cell_type": "code",
   "execution_count": null,
   "metadata": {},
   "outputs": [],
   "source": []
  },
  {
   "cell_type": "code",
   "execution_count": null,
   "metadata": {},
   "outputs": [],
   "source": []
  },
  {
   "cell_type": "code",
   "execution_count": null,
   "metadata": {},
   "outputs": [],
   "source": [
    "employees = establishment_data[['base_location_Industry Group', 'no_of_emp_work', 'employees_fulltime_count']]\n",
    "employees = employees['employees_fulltime_count'].sum()\n",
    "employees"
   ]
  },
  {
   "cell_type": "code",
   "execution_count": null,
   "metadata": {},
   "outputs": [],
   "source": [
    "2213/46272"
   ]
  },
  {
   "cell_type": "code",
   "execution_count": null,
   "metadata": {},
   "outputs": [],
   "source": [
    "len(trip_data_)/2213"
   ]
  },
  {
   "cell_type": "code",
   "execution_count": null,
   "metadata": {},
   "outputs": [],
   "source": [
    "10687/2213"
   ]
  },
  {
   "cell_type": "code",
   "execution_count": null,
   "metadata": {},
   "outputs": [],
   "source": [
    "trip_data_"
   ]
  },
  {
   "cell_type": "code",
   "execution_count": null,
   "metadata": {},
   "outputs": [],
   "source": []
  },
  {
   "cell_type": "code",
   "execution_count": null,
   "metadata": {},
   "outputs": [],
   "source": []
  },
  {
   "cell_type": "code",
   "execution_count": null,
   "metadata": {},
   "outputs": [],
   "source": []
  },
  {
   "cell_type": "code",
   "execution_count": null,
   "metadata": {},
   "outputs": [],
   "source": [
    "tour_data = tour_data.merge(establishment_data[\n",
    "    ['company_id', 'base_location_Industry Group']\n",
    "    ], on='company_id', how='left')\n",
    "\n",
    "vmt = tour_data[\n",
    "    ['Most.Likely.Estimate.Weight.Factor', 'base_location_Industry Group', 'TRAVEL_DISTANCE']\n",
    "].dropna(how='any')\n",
    "vmt['weighted_distance'] = vmt['Most.Likely.Estimate.Weight.Factor'] * vmt.TRAVEL_DISTANCE\n",
    "vmt_ = vmt[['weighted_distance', 'base_location_Industry Group']].groupby('base_location_Industry Group').sum().reset_index()\n",
    "vmt_"
   ]
  },
  {
   "cell_type": "code",
   "execution_count": null,
   "metadata": {},
   "outputs": [],
   "source": [
    "vmt_.weighted_distance.sum()"
   ]
  },
  {
   "cell_type": "code",
   "execution_count": null,
   "metadata": {},
   "outputs": [],
   "source": []
  },
  {
   "cell_type": "code",
   "execution_count": null,
   "metadata": {},
   "outputs": [],
   "source": []
  },
  {
   "cell_type": "code",
   "execution_count": null,
   "metadata": {},
   "outputs": [],
   "source": [
    "# #manual fixing tour_data tour_id\n",
    "# tour_data.loc[(tour_data.vehicle_id == 117)&\n",
    "#               (tour_data.TOUR_NUM == 3)&\n",
    "#               (tour_data.STOP_SEQ == 2), 'tour_id'] = 775\n",
    "# tour_data.loc[(tour_data.vehicle_id == 176)&\n",
    "#               (tour_data.TOUR_NUM == 2)&\n",
    "#               (tour_data.STOP_SEQ == 2)&\n",
    "#               (tour_data.trip_number == 4),  'tour_id'] = 1530\n",
    "\n",
    "# a = tour_data.vehicle_id.astype(str)+'_'+tour_data.TOUR_NUM.astype(str)\n",
    "# a = {v: k+1 for k, v in enumerate(a.unique())}\n",
    "# tour_data_ = tour_data[['company_id', 'driver_id', 'vehicle_id','TOUR_NUM', 'trip_number', 'STOP_SEQ', 'TOUR_START', 'TOUR_END']].copy()\n",
    "# tour_data_['tour_id2'] = tour_id\n",
    "# tour_data_['tour_id3'] = tour_data.vehicle_id.astype(str)+'_'+tour_data.TOUR_NUM.astype(str)\n",
    "# tour_data_['tour_id3_'] = tour_data_.tour_id3.apply(lambda x: a[x])\n",
    "# tour_data_.to_csv('tour_id_verification.csv')"
   ]
  },
  {
   "cell_type": "code",
   "execution_count": null,
   "metadata": {},
   "outputs": [],
   "source": []
  },
  {
   "cell_type": "code",
   "execution_count": null,
   "metadata": {},
   "outputs": [],
   "source": [
    "tour_data.sort_values(['vehicle_id', 'TOUR_NUM','STOP_SEQ'])"
   ]
  },
  {
   "cell_type": "code",
   "execution_count": null,
   "metadata": {},
   "outputs": [],
   "source": [
    "tour_id_ = []\n",
    "counter = 0\n",
    "start, end = tour_data['TOUR_START'], tour_data['TOUR_END']\n",
    "\n",
    "started, ended, prev = False, False, (None, None)\n",
    "for se in list(zip(start, end)):\n",
    "    if se == (True, False):\n",
    "        started, ended = True, False\n",
    "        counter += 1\n",
    "    elif se == (False, True):\n",
    "        started, ended = False, True\n",
    "    #if ended and not started: counter += 1\n",
    "    tour_id_.append(counter)"
   ]
  },
  {
   "cell_type": "code",
   "execution_count": null,
   "metadata": {},
   "outputs": [],
   "source": [
    "tour_id = []\n",
    "counter = 0\n",
    "c, d, tp, v, tr = tour_data.company_id, tour_data.driver_id, tour_data.trip_number, tour_data.vehicle_id, tour_data.TOUR_NUM\n",
    "c_, d_, tp_, v_, tr_ = None, None, None, None, None\n",
    "for i in range(len(c)):\n",
    "    if tr[i] != tr_: counter += 1\n",
    "    else:\n",
    "        if tp[i] == 0: counter += 1\n",
    "    c_, d_, tp_, v_, tr_ = c[i], d[i], tp[i], v[i], tr[i]\n",
    "    tour_id.append(counter)"
   ]
  },
  {
   "cell_type": "code",
   "execution_count": null,
   "metadata": {},
   "outputs": [],
   "source": [
    "a = tour_data.vehicle_id.astype(str)+'_'+tour_data.TOUR_NUM.astype(str)\n",
    "a = {v: k+1 for k, v in enumerate(a.unique())}\n"
   ]
  },
  {
   "cell_type": "code",
   "execution_count": null,
   "metadata": {},
   "outputs": [],
   "source": [
    "tour_data_ = tour_data[['company_id', 'driver_id', 'vehicle_id','TOUR_NUM', 'trip_number', 'STOP_SEQ', 'TOUR_START', 'TOUR_END']].copy()\n",
    "tour_data_['tour_id1'] = tour_id_\n",
    "tour_data_['tour_id2'] = tour_id\n",
    "tour_data_['tour_id3'] = tour_data.vehicle_id.astype(str)+'_'+tour_data.TOUR_NUM.astype(str)\n",
    "tour_data_['tour_id3_']= tour_data_.tour_id3.apply(lambda x: a[x])\n",
    "tour_data_"
   ]
  },
  {
   "cell_type": "markdown",
   "metadata": {},
   "source": []
  },
  {
   "cell_type": "code",
   "execution_count": null,
   "metadata": {},
   "outputs": [],
   "source": [
    "tour_data_.to_csv('tour_id_verification.csv')"
   ]
  },
  {
   "cell_type": "code",
   "execution_count": null,
   "metadata": {},
   "outputs": [],
   "source": [
    "max(tour_id_)"
   ]
  },
  {
   "cell_type": "code",
   "execution_count": null,
   "metadata": {},
   "outputs": [],
   "source": [
    "max(a.values())"
   ]
  },
  {
   "cell_type": "code",
   "execution_count": null,
   "metadata": {},
   "outputs": [],
   "source": [
    "tour_data['tour_id3'] = tour_data.vehicle_id.astype(str)+'_'+tour_data.TOUR_NUM.astype(str)\n",
    "tour_data['tour_id1'] = tour_id_\n",
    "tour_data['tour_id2'] = tour_id"
   ]
  },
  {
   "cell_type": "code",
   "execution_count": null,
   "metadata": {},
   "outputs": [],
   "source": [
    "tour_1 = tour_data[['Most.Likely.Estimate.Weight.Factor', 'tour_id1']].groupby('tour_id1').mean().reset_index()\n",
    "tour_1 = tour_1.merge(\n",
    "    tour_data[['base_location_Industry Group', 'tour_id1']].groupby('tour_id1').mean(),\n",
    "    on='tour_id1',\n",
    "    how='left',\n",
    "    validate='one_to_many'\n",
    "    )\n",
    "tour_1[\n",
    "    ['Most.Likely.Estimate.Weight.Factor', 'base_location_Industry Group']\n",
    "].groupby('base_location_Industry Group').sum().reset_index()['Most.Likely.Estimate.Weight.Factor'].sum()"
   ]
  },
  {
   "cell_type": "code",
   "execution_count": null,
   "metadata": {},
   "outputs": [],
   "source": [
    "tour_data.used_other_vehicle.value_counts()"
   ]
  },
  {
   "cell_type": "code",
   "execution_count": null,
   "metadata": {},
   "outputs": [],
   "source": [
    "tour_data.sort_values(['vehicle_id', 'TOUR_NUM','STOP_SEQ'])"
   ]
  },
  {
   "cell_type": "code",
   "execution_count": null,
   "metadata": {},
   "outputs": [],
   "source": []
  },
  {
   "cell_type": "code",
   "execution_count": null,
   "metadata": {},
   "outputs": [],
   "source": []
  },
  {
   "cell_type": "code",
   "execution_count": null,
   "metadata": {},
   "outputs": [],
   "source": []
  },
  {
   "cell_type": "code",
   "execution_count": null,
   "metadata": {},
   "outputs": [],
   "source": []
  }
 ],
 "metadata": {
  "kernelspec": {
   "display_name": "base",
   "language": "python",
   "name": "python3"
  },
  "language_info": {
   "codemirror_mode": {
    "name": "ipython",
    "version": 3
   },
   "file_extension": ".py",
   "mimetype": "text/x-python",
   "name": "python",
   "nbconvert_exporter": "python",
   "pygments_lexer": "ipython3",
   "version": "3.12.7"
  }
 },
 "nbformat": 4,
 "nbformat_minor": 2
}
