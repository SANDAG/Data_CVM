{
 "cells": [
  {
   "cell_type": "code",
   "execution_count": 2,
   "metadata": {},
   "outputs": [],
   "source": [
    "%reload_ext autoreload\n",
    "%autoreload 2\n",
    "\n",
    "import pandas as pd"
   ]
  },
  {
   "cell_type": "code",
   "execution_count": 3,
   "metadata": {},
   "outputs": [],
   "source": [
    "from pathlib import Path\n",
    "\n",
    "from model import (\n",
    "    extract_emp_data,\n",
    "    extract_trip_data,\n",
    "    extract_tour_data,\n",
    ")\n",
    "from totals import summarize_totals\n",
    "from rates import summarize_rates"
   ]
  },
  {
   "cell_type": "code",
   "execution_count": 4,
   "metadata": {},
   "outputs": [],
   "source": [
    "dir_ = Path('T:/data/base_2022/CVM/Calib_CVM_B/')"
   ]
  },
  {
   "cell_type": "code",
   "execution_count": 5,
   "metadata": {},
   "outputs": [
    {
     "data": {
      "text/html": [
       "<div>\n",
       "<style scoped>\n",
       "    .dataframe tbody tr th:only-of-type {\n",
       "        vertical-align: middle;\n",
       "    }\n",
       "\n",
       "    .dataframe tbody tr th {\n",
       "        vertical-align: top;\n",
       "    }\n",
       "\n",
       "    .dataframe thead th {\n",
       "        text-align: right;\n",
       "    }\n",
       "</style>\n",
       "<table border=\"1\" class=\"dataframe\">\n",
       "  <thead>\n",
       "    <tr style=\"text-align: right;\">\n",
       "      <th></th>\n",
       "      <th>emp</th>\n",
       "    </tr>\n",
       "    <tr>\n",
       "      <th>industry</th>\n",
       "      <th></th>\n",
       "    </tr>\n",
       "  </thead>\n",
       "  <tbody>\n",
       "    <tr>\n",
       "      <th>Industrial</th>\n",
       "      <td>207356</td>\n",
       "    </tr>\n",
       "    <tr>\n",
       "      <th>Retail</th>\n",
       "      <td>144185</td>\n",
       "    </tr>\n",
       "    <tr>\n",
       "      <th>Service/Gov/Office/FA</th>\n",
       "      <td>1066343</td>\n",
       "    </tr>\n",
       "    <tr>\n",
       "      <th>Transport</th>\n",
       "      <td>37037</td>\n",
       "    </tr>\n",
       "    <tr>\n",
       "      <th>Wholesale</th>\n",
       "      <td>43668</td>\n",
       "    </tr>\n",
       "  </tbody>\n",
       "</table>\n",
       "</div>"
      ],
      "text/plain": [
       "                           emp\n",
       "industry                      \n",
       "Industrial              207356\n",
       "Retail                  144185\n",
       "Service/Gov/Office/FA  1066343\n",
       "Transport                37037\n",
       "Wholesale                43668"
      ]
     },
     "execution_count": 5,
     "metadata": {},
     "output_type": "execute_result"
    }
   ],
   "source": [
    "emp = extract_emp_data(path=dir_/'model_output/Zonal Properties CVM.csv')\n",
    "emp"
   ]
  },
  {
   "cell_type": "code",
   "execution_count": 6,
   "metadata": {},
   "outputs": [
    {
     "data": {
      "text/html": [
       "<div>\n",
       "<style scoped>\n",
       "    .dataframe tbody tr th:only-of-type {\n",
       "        vertical-align: middle;\n",
       "    }\n",
       "\n",
       "    .dataframe tbody tr th {\n",
       "        vertical-align: top;\n",
       "    }\n",
       "\n",
       "    .dataframe thead th {\n",
       "        text-align: right;\n",
       "    }\n",
       "</style>\n",
       "<table border=\"1\" class=\"dataframe\">\n",
       "  <thead>\n",
       "    <tr style=\"text-align: right;\">\n",
       "      <th></th>\n",
       "      <th>industry</th>\n",
       "      <th>mode</th>\n",
       "    </tr>\n",
       "    <tr>\n",
       "      <th>tour_id</th>\n",
       "      <th></th>\n",
       "      <th></th>\n",
       "    </tr>\n",
       "  </thead>\n",
       "  <tbody>\n",
       "    <tr>\n",
       "      <th>1</th>\n",
       "      <td>Industrial</td>\n",
       "      <td>Light Heavy Duty Truck</td>\n",
       "    </tr>\n",
       "    <tr>\n",
       "      <th>2</th>\n",
       "      <td>Industrial</td>\n",
       "      <td>Drive Alone</td>\n",
       "    </tr>\n",
       "  </tbody>\n",
       "</table>\n",
       "</div>"
      ],
      "text/plain": [
       "           industry                    mode\n",
       "tour_id                                    \n",
       "1        Industrial  Light Heavy Duty Truck\n",
       "2        Industrial             Drive Alone"
      ]
     },
     "execution_count": 6,
     "metadata": {},
     "output_type": "execute_result"
    }
   ],
   "source": [
    "tours = extract_tour_data(path=dir_/'model_output/commercialVehicleTours.csv')\n",
    "tours.head(2)"
   ]
  },
  {
   "cell_type": "code",
   "execution_count": 7,
   "metadata": {},
   "outputs": [
    {
     "data": {
      "text/plain": [
       "array(['Industrial', 'Service/Gov/Office/FA', 'Transport', 'Retail',\n",
       "       'Wholesale'], dtype=object)"
      ]
     },
     "execution_count": 7,
     "metadata": {},
     "output_type": "execute_result"
    }
   ],
   "source": [
    "tours.industry.unique()"
   ]
  },
  {
   "cell_type": "code",
   "execution_count": 8,
   "metadata": {},
   "outputs": [
    {
     "data": {
      "text/plain": [
       "array(['Light Heavy Duty Truck', 'Drive Alone', 'Heavy Heavy Duty Truck',\n",
       "       'Medium Heavy Duty Truck'], dtype=object)"
      ]
     },
     "execution_count": 8,
     "metadata": {},
     "output_type": "execute_result"
    }
   ],
   "source": [
    "tours['mode'].unique()"
   ]
  },
  {
   "cell_type": "code",
   "execution_count": 9,
   "metadata": {},
   "outputs": [
    {
     "data": {
      "text/html": [
       "<div>\n",
       "<style scoped>\n",
       "    .dataframe tbody tr th:only-of-type {\n",
       "        vertical-align: middle;\n",
       "    }\n",
       "\n",
       "    .dataframe tbody tr th {\n",
       "        vertical-align: top;\n",
       "    }\n",
       "\n",
       "    .dataframe thead th {\n",
       "        text-align: right;\n",
       "    }\n",
       "</style>\n",
       "<table border=\"1\" class=\"dataframe\">\n",
       "  <thead>\n",
       "    <tr style=\"text-align: right;\">\n",
       "      <th></th>\n",
       "      <th>tour_id</th>\n",
       "      <th>stop_id</th>\n",
       "      <th>weight_trip</th>\n",
       "      <th>weight_person</th>\n",
       "      <th>distance</th>\n",
       "      <th>industry</th>\n",
       "      <th>mode</th>\n",
       "    </tr>\n",
       "    <tr>\n",
       "      <th>trip_id</th>\n",
       "      <th></th>\n",
       "      <th></th>\n",
       "      <th></th>\n",
       "      <th></th>\n",
       "      <th></th>\n",
       "      <th></th>\n",
       "      <th></th>\n",
       "    </tr>\n",
       "  </thead>\n",
       "  <tbody>\n",
       "    <tr>\n",
       "      <th>1</th>\n",
       "      <td>1</td>\n",
       "      <td>1</td>\n",
       "      <td>3.36</td>\n",
       "      <td>3.36</td>\n",
       "      <td>13.258280</td>\n",
       "      <td>Industrial</td>\n",
       "      <td>Light Heavy Duty Truck</td>\n",
       "    </tr>\n",
       "    <tr>\n",
       "      <th>2</th>\n",
       "      <td>1</td>\n",
       "      <td>2</td>\n",
       "      <td>3.36</td>\n",
       "      <td>3.36</td>\n",
       "      <td>13.258282</td>\n",
       "      <td>Industrial</td>\n",
       "      <td>Light Heavy Duty Truck</td>\n",
       "    </tr>\n",
       "  </tbody>\n",
       "</table>\n",
       "</div>"
      ],
      "text/plain": [
       "         tour_id  stop_id  weight_trip  weight_person   distance    industry  \\\n",
       "trip_id                                                                        \n",
       "1              1        1         3.36           3.36  13.258280  Industrial   \n",
       "2              1        2         3.36           3.36  13.258282  Industrial   \n",
       "\n",
       "                           mode  \n",
       "trip_id                          \n",
       "1        Light Heavy Duty Truck  \n",
       "2        Light Heavy Duty Truck  "
      ]
     },
     "execution_count": 9,
     "metadata": {},
     "output_type": "execute_result"
    }
   ],
   "source": [
    "trips = extract_trip_data(path=dir_/'model_output/commercialVehicleTrips.csv')\n",
    "\n",
    "# add industry and tour mode (tour-level data assignment) to trip data\n",
    "trips = trips.reset_index().merge(\n",
    "    tours,\n",
    "    how='left',\n",
    "    on='tour_id'\n",
    ").set_index('trip_id')\n",
    "\n",
    "trips.head(2)"
   ]
  },
  {
   "cell_type": "code",
   "execution_count": 22,
   "metadata": {},
   "outputs": [
    {
     "data": {
      "text/plain": [
       "Light Heavy Duty Truck     626286\n",
       "Drive Alone                395083\n",
       "Medium Heavy Duty Truck    201810\n",
       "Heavy Heavy Duty Truck     106959\n",
       "Name: mode, dtype: int64"
      ]
     },
     "execution_count": 22,
     "metadata": {},
     "output_type": "execute_result"
    }
   ],
   "source": [
    "trips['mode'].value_counts()"
   ]
  },
  {
   "cell_type": "code",
   "execution_count": 26,
   "metadata": {},
   "outputs": [
    {
     "data": {
      "text/plain": [
       "mode\n",
       "Drive Alone                3.177168e+05\n",
       "Heavy Heavy Duty Truck     1.026740e+06\n",
       "Light Heavy Duty Truck     8.946066e+06\n",
       "Medium Heavy Duty Truck    6.211732e+05\n",
       "Name: vmt, dtype: float64"
      ]
     },
     "execution_count": 26,
     "metadata": {},
     "output_type": "execute_result"
    }
   ],
   "source": [
    "trips.assign(vmt=(trips['distance'] * trips['weight_person'])).groupby('mode').vmt.sum().sort_index()"
   ]
  },
  {
   "cell_type": "code",
   "execution_count": 29,
   "metadata": {},
   "outputs": [
    {
     "data": {
      "text/html": [
       "<div>\n",
       "<style scoped>\n",
       "    .dataframe tbody tr th:only-of-type {\n",
       "        vertical-align: middle;\n",
       "    }\n",
       "\n",
       "    .dataframe tbody tr th {\n",
       "        vertical-align: top;\n",
       "    }\n",
       "\n",
       "    .dataframe thead th {\n",
       "        text-align: right;\n",
       "    }\n",
       "</style>\n",
       "<table border=\"1\" class=\"dataframe\">\n",
       "  <thead>\n",
       "    <tr style=\"text-align: right;\">\n",
       "      <th></th>\n",
       "      <th>emp</th>\n",
       "      <th>tours</th>\n",
       "      <th>trips</th>\n",
       "      <th>vmt</th>\n",
       "      <th>med_heavy_vmt</th>\n",
       "    </tr>\n",
       "    <tr>\n",
       "      <th>industry</th>\n",
       "      <th></th>\n",
       "      <th></th>\n",
       "      <th></th>\n",
       "      <th></th>\n",
       "      <th></th>\n",
       "    </tr>\n",
       "  </thead>\n",
       "  <tbody>\n",
       "    <tr>\n",
       "      <th>Industrial</th>\n",
       "      <td>207356</td>\n",
       "      <td>44000</td>\n",
       "      <td>148730</td>\n",
       "      <td>1.281649e+06</td>\n",
       "      <td>1.244466e+06</td>\n",
       "    </tr>\n",
       "    <tr>\n",
       "      <th>Retail</th>\n",
       "      <td>144185</td>\n",
       "      <td>30836</td>\n",
       "      <td>135518</td>\n",
       "      <td>1.218760e+06</td>\n",
       "      <td>1.176510e+06</td>\n",
       "    </tr>\n",
       "    <tr>\n",
       "      <th>Service/Gov/Office/FA</th>\n",
       "      <td>1066343</td>\n",
       "      <td>190970</td>\n",
       "      <td>953850</td>\n",
       "      <td>7.616048e+06</td>\n",
       "      <td>7.401185e+06</td>\n",
       "    </tr>\n",
       "    <tr>\n",
       "      <th>Transport</th>\n",
       "      <td>37037</td>\n",
       "      <td>10375</td>\n",
       "      <td>42550</td>\n",
       "      <td>2.636991e+05</td>\n",
       "      <td>2.570520e+05</td>\n",
       "    </tr>\n",
       "    <tr>\n",
       "      <th>Wholesale</th>\n",
       "      <td>43668</td>\n",
       "      <td>8810</td>\n",
       "      <td>49490</td>\n",
       "      <td>5.315402e+05</td>\n",
       "      <td>5.147670e+05</td>\n",
       "    </tr>\n",
       "  </tbody>\n",
       "</table>\n",
       "</div>"
      ],
      "text/plain": [
       "                           emp   tours   trips           vmt  med_heavy_vmt\n",
       "industry                                                                   \n",
       "Industrial              207356   44000  148730  1.281649e+06   1.244466e+06\n",
       "Retail                  144185   30836  135518  1.218760e+06   1.176510e+06\n",
       "Service/Gov/Office/FA  1066343  190970  953850  7.616048e+06   7.401185e+06\n",
       "Transport                37037   10375   42550  2.636991e+05   2.570520e+05\n",
       "Wholesale                43668    8810   49490  5.315402e+05   5.147670e+05"
      ]
     },
     "execution_count": 29,
     "metadata": {},
     "output_type": "execute_result"
    }
   ],
   "source": [
    "totals = summarize_totals(emp=emp, tours=tours, trips=trips)\n",
    "totals.to_csv(dir_/'model_results_totals.csv')\n",
    "totals"
   ]
  },
  {
   "cell_type": "code",
   "execution_count": 30,
   "metadata": {},
   "outputs": [
    {
     "data": {
      "text/html": [
       "<div>\n",
       "<style scoped>\n",
       "    .dataframe tbody tr th:only-of-type {\n",
       "        vertical-align: middle;\n",
       "    }\n",
       "\n",
       "    .dataframe tbody tr th {\n",
       "        vertical-align: top;\n",
       "    }\n",
       "\n",
       "    .dataframe thead th {\n",
       "        text-align: right;\n",
       "    }\n",
       "</style>\n",
       "<table border=\"1\" class=\"dataframe\">\n",
       "  <thead>\n",
       "    <tr style=\"text-align: right;\">\n",
       "      <th></th>\n",
       "      <th>tours_per_emp</th>\n",
       "      <th>trips_per_tour</th>\n",
       "      <th>avg_trip_len</th>\n",
       "      <th>pct_light</th>\n",
       "    </tr>\n",
       "    <tr>\n",
       "      <th>industry</th>\n",
       "      <th></th>\n",
       "      <th></th>\n",
       "      <th></th>\n",
       "      <th></th>\n",
       "    </tr>\n",
       "  </thead>\n",
       "  <tbody>\n",
       "    <tr>\n",
       "      <th>Industrial</th>\n",
       "      <td>0.212195</td>\n",
       "      <td>3.380227</td>\n",
       "      <td>8.617286</td>\n",
       "      <td>0.029012</td>\n",
       "    </tr>\n",
       "    <tr>\n",
       "      <th>Retail</th>\n",
       "      <td>0.213864</td>\n",
       "      <td>4.394798</td>\n",
       "      <td>8.993347</td>\n",
       "      <td>0.034667</td>\n",
       "    </tr>\n",
       "    <tr>\n",
       "      <th>Service/Gov/Office/FA</th>\n",
       "      <td>0.179089</td>\n",
       "      <td>4.994764</td>\n",
       "      <td>7.984534</td>\n",
       "      <td>0.028212</td>\n",
       "    </tr>\n",
       "    <tr>\n",
       "      <th>Transport</th>\n",
       "      <td>0.280125</td>\n",
       "      <td>4.101205</td>\n",
       "      <td>6.197393</td>\n",
       "      <td>0.025207</td>\n",
       "    </tr>\n",
       "    <tr>\n",
       "      <th>Wholesale</th>\n",
       "      <td>0.201750</td>\n",
       "      <td>5.617480</td>\n",
       "      <td>10.740355</td>\n",
       "      <td>0.031556</td>\n",
       "    </tr>\n",
       "  </tbody>\n",
       "</table>\n",
       "</div>"
      ],
      "text/plain": [
       "                       tours_per_emp  trips_per_tour  avg_trip_len  pct_light\n",
       "industry                                                                     \n",
       "Industrial                  0.212195        3.380227      8.617286   0.029012\n",
       "Retail                      0.213864        4.394798      8.993347   0.034667\n",
       "Service/Gov/Office/FA       0.179089        4.994764      7.984534   0.028212\n",
       "Transport                   0.280125        4.101205      6.197393   0.025207\n",
       "Wholesale                   0.201750        5.617480     10.740355   0.031556"
      ]
     },
     "execution_count": 30,
     "metadata": {},
     "output_type": "execute_result"
    }
   ],
   "source": [
    "rates = summarize_rates(totals=totals)\n",
    "rates.to_csv(dir_/'model_results_rates.csv')\n",
    "rates"
   ]
  },
  {
   "cell_type": "code",
   "execution_count": null,
   "metadata": {},
   "outputs": [],
   "source": []
  }
 ],
 "metadata": {
  "kernelspec": {
   "display_name": "Python 3",
   "language": "python",
   "name": "python3"
  },
  "language_info": {
   "codemirror_mode": {
    "name": "ipython",
    "version": 3
   },
   "file_extension": ".py",
   "mimetype": "text/x-python",
   "name": "python",
   "nbconvert_exporter": "python",
   "pygments_lexer": "ipython3",
   "version": "3.11.5"
  }
 },
 "nbformat": 4,
 "nbformat_minor": 2
}
