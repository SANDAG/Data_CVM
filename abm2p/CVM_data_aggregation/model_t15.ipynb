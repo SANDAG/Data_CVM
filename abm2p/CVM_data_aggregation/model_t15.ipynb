{
 "cells": [
  {
   "cell_type": "code",
   "execution_count": 93,
   "metadata": {},
   "outputs": [],
   "source": [
    "%reload_ext autoreload\n",
    "%autoreload 2\n",
    "\n",
    "import pandas as pd"
   ]
  },
  {
   "cell_type": "code",
   "execution_count": 94,
   "metadata": {},
   "outputs": [],
   "source": [
    "from pathlib import Path\n",
    "\n",
    "from model import (\n",
    "    extract_emp_data,\n",
    "    extract_trip_data,\n",
    "    extract_tour_data,\n",
    ")\n",
    "from totals import summarize_totals\n",
    "from rates import summarize_rates"
   ]
  },
  {
   "cell_type": "code",
   "execution_count": 95,
   "metadata": {},
   "outputs": [],
   "source": [
    "dir_ = Path('T:/data/base_2022/CVM/Calib_CVM_B/')"
   ]
  },
  {
   "cell_type": "code",
   "execution_count": 80,
   "metadata": {},
   "outputs": [
    {
     "data": {
      "text/html": [
       "<div>\n",
       "<style scoped>\n",
       "    .dataframe tbody tr th:only-of-type {\n",
       "        vertical-align: middle;\n",
       "    }\n",
       "\n",
       "    .dataframe tbody tr th {\n",
       "        vertical-align: top;\n",
       "    }\n",
       "\n",
       "    .dataframe thead th {\n",
       "        text-align: right;\n",
       "    }\n",
       "</style>\n",
       "<table border=\"1\" class=\"dataframe\">\n",
       "  <thead>\n",
       "    <tr style=\"text-align: right;\">\n",
       "      <th></th>\n",
       "      <th>emp</th>\n",
       "    </tr>\n",
       "    <tr>\n",
       "      <th>industry</th>\n",
       "      <th></th>\n",
       "    </tr>\n",
       "  </thead>\n",
       "  <tbody>\n",
       "    <tr>\n",
       "      <th>Industry</th>\n",
       "      <td>207356</td>\n",
       "    </tr>\n",
       "    <tr>\n",
       "      <th>Wholesale</th>\n",
       "      <td>43668</td>\n",
       "    </tr>\n",
       "    <tr>\n",
       "      <th>Retail</th>\n",
       "      <td>144185</td>\n",
       "    </tr>\n",
       "    <tr>\n",
       "      <th>Government\\Office</th>\n",
       "      <td>494292</td>\n",
       "    </tr>\n",
       "    <tr>\n",
       "      <th>Service</th>\n",
       "      <td>572051</td>\n",
       "    </tr>\n",
       "    <tr>\n",
       "      <th>Transport</th>\n",
       "      <td>37037</td>\n",
       "    </tr>\n",
       "    <tr>\n",
       "      <th>Fleet Allocator</th>\n",
       "      <td>0</td>\n",
       "    </tr>\n",
       "  </tbody>\n",
       "</table>\n",
       "</div>"
      ],
      "text/plain": [
       "                      emp\n",
       "industry                 \n",
       "Industry           207356\n",
       "Wholesale           43668\n",
       "Retail             144185\n",
       "Government\\Office  494292\n",
       "Service            572051\n",
       "Transport           37037\n",
       "Fleet Allocator         0"
      ]
     },
     "execution_count": 80,
     "metadata": {},
     "output_type": "execute_result"
    }
   ],
   "source": [
    "emp = extract_emp_data(path=dir_/'model_output/Zonal Properties CVM.csv')\n",
    "emp"
   ]
  },
  {
   "cell_type": "code",
   "execution_count": 81,
   "metadata": {},
   "outputs": [
    {
     "data": {
      "text/html": [
       "<div>\n",
       "<style scoped>\n",
       "    .dataframe tbody tr th:only-of-type {\n",
       "        vertical-align: middle;\n",
       "    }\n",
       "\n",
       "    .dataframe tbody tr th {\n",
       "        vertical-align: top;\n",
       "    }\n",
       "\n",
       "    .dataframe thead th {\n",
       "        text-align: right;\n",
       "    }\n",
       "</style>\n",
       "<table border=\"1\" class=\"dataframe\">\n",
       "  <thead>\n",
       "    <tr style=\"text-align: right;\">\n",
       "      <th></th>\n",
       "      <th>industry</th>\n",
       "      <th>mode</th>\n",
       "    </tr>\n",
       "    <tr>\n",
       "      <th>tour_id</th>\n",
       "      <th></th>\n",
       "      <th></th>\n",
       "    </tr>\n",
       "  </thead>\n",
       "  <tbody>\n",
       "    <tr>\n",
       "      <th>1</th>\n",
       "      <td>Industry</td>\n",
       "      <td>Light Heavy Duty Truck</td>\n",
       "    </tr>\n",
       "    <tr>\n",
       "      <th>2</th>\n",
       "      <td>Industry</td>\n",
       "      <td>Drive Alone</td>\n",
       "    </tr>\n",
       "  </tbody>\n",
       "</table>\n",
       "</div>"
      ],
      "text/plain": [
       "         industry                    mode\n",
       "tour_id                                  \n",
       "1        Industry  Light Heavy Duty Truck\n",
       "2        Industry             Drive Alone"
      ]
     },
     "execution_count": 81,
     "metadata": {},
     "output_type": "execute_result"
    }
   ],
   "source": [
    "tours = extract_tour_data(path=dir_/'model_output/commercialVehicleTours.csv')\n",
    "tours.head(2)"
   ]
  },
  {
   "cell_type": "code",
   "execution_count": 89,
   "metadata": {},
   "outputs": [
    {
     "data": {
      "text/plain": [
       "['Industry', 'Government\\Office', 'Fleet Allocator', 'Service', 'Transport', 'Retail', 'Wholesale']\n",
       "Categories (7, object): ['Industry', 'Wholesale', 'Retail', 'Government\\Office', 'Service', 'Transport', 'Fleet Allocator']"
      ]
     },
     "execution_count": 89,
     "metadata": {},
     "output_type": "execute_result"
    }
   ],
   "source": [
    "tours.industry.unique()"
   ]
  },
  {
   "cell_type": "code",
   "execution_count": 91,
   "metadata": {},
   "outputs": [
    {
     "data": {
      "text/plain": [
       "array(['Light Heavy Duty Truck', 'Drive Alone', 'Heavy Heavy Duty Truck',\n",
       "       'Medium Heavy Duty Truck'], dtype=object)"
      ]
     },
     "execution_count": 91,
     "metadata": {},
     "output_type": "execute_result"
    }
   ],
   "source": [
    "tours['mode'].unique()"
   ]
  },
  {
   "cell_type": "code",
   "execution_count": 82,
   "metadata": {},
   "outputs": [
    {
     "data": {
      "text/html": [
       "<div>\n",
       "<style scoped>\n",
       "    .dataframe tbody tr th:only-of-type {\n",
       "        vertical-align: middle;\n",
       "    }\n",
       "\n",
       "    .dataframe tbody tr th {\n",
       "        vertical-align: top;\n",
       "    }\n",
       "\n",
       "    .dataframe thead th {\n",
       "        text-align: right;\n",
       "    }\n",
       "</style>\n",
       "<table border=\"1\" class=\"dataframe\">\n",
       "  <thead>\n",
       "    <tr style=\"text-align: right;\">\n",
       "      <th></th>\n",
       "      <th>tour_id</th>\n",
       "      <th>stop_id</th>\n",
       "      <th>weight_trip</th>\n",
       "      <th>weight_person</th>\n",
       "      <th>distance</th>\n",
       "      <th>industry</th>\n",
       "      <th>mode</th>\n",
       "    </tr>\n",
       "    <tr>\n",
       "      <th>trip_id</th>\n",
       "      <th></th>\n",
       "      <th></th>\n",
       "      <th></th>\n",
       "      <th></th>\n",
       "      <th></th>\n",
       "      <th></th>\n",
       "      <th></th>\n",
       "    </tr>\n",
       "  </thead>\n",
       "  <tbody>\n",
       "    <tr>\n",
       "      <th>1</th>\n",
       "      <td>1</td>\n",
       "      <td>1</td>\n",
       "      <td>3.36</td>\n",
       "      <td>3.36</td>\n",
       "      <td>13.258280</td>\n",
       "      <td>Industry</td>\n",
       "      <td>Light Heavy Duty Truck</td>\n",
       "    </tr>\n",
       "    <tr>\n",
       "      <th>2</th>\n",
       "      <td>1</td>\n",
       "      <td>2</td>\n",
       "      <td>3.36</td>\n",
       "      <td>3.36</td>\n",
       "      <td>13.258282</td>\n",
       "      <td>Industry</td>\n",
       "      <td>Light Heavy Duty Truck</td>\n",
       "    </tr>\n",
       "  </tbody>\n",
       "</table>\n",
       "</div>"
      ],
      "text/plain": [
       "         tour_id  stop_id  weight_trip  weight_person   distance  industry  \\\n",
       "trip_id                                                                      \n",
       "1              1        1         3.36           3.36  13.258280  Industry   \n",
       "2              1        2         3.36           3.36  13.258282  Industry   \n",
       "\n",
       "                           mode  \n",
       "trip_id                          \n",
       "1        Light Heavy Duty Truck  \n",
       "2        Light Heavy Duty Truck  "
      ]
     },
     "execution_count": 82,
     "metadata": {},
     "output_type": "execute_result"
    }
   ],
   "source": [
    "trips = extract_trip_data(path=dir_/'model_output/commercialVehicleTrips.csv')\n",
    "\n",
    "# add industry and tour mode (tour-level data assignment) to trip data\n",
    "trips = trips.reset_index().merge(\n",
    "    tours,\n",
    "    how='left',\n",
    "    on='tour_id'\n",
    ").set_index('trip_id')\n",
    "\n",
    "trips.head(2)"
   ]
  },
  {
   "cell_type": "code",
   "execution_count": 87,
   "metadata": {},
   "outputs": [
    {
     "data": {
      "text/html": [
       "<div>\n",
       "<style scoped>\n",
       "    .dataframe tbody tr th:only-of-type {\n",
       "        vertical-align: middle;\n",
       "    }\n",
       "\n",
       "    .dataframe tbody tr th {\n",
       "        vertical-align: top;\n",
       "    }\n",
       "\n",
       "    .dataframe thead th {\n",
       "        text-align: right;\n",
       "    }\n",
       "</style>\n",
       "<table border=\"1\" class=\"dataframe\">\n",
       "  <thead>\n",
       "    <tr style=\"text-align: right;\">\n",
       "      <th></th>\n",
       "      <th>emp</th>\n",
       "      <th>tours</th>\n",
       "      <th>trips</th>\n",
       "      <th>vmt</th>\n",
       "      <th>med_heavy_vmt</th>\n",
       "    </tr>\n",
       "    <tr>\n",
       "      <th>industry</th>\n",
       "      <th></th>\n",
       "      <th></th>\n",
       "      <th></th>\n",
       "      <th></th>\n",
       "      <th></th>\n",
       "    </tr>\n",
       "  </thead>\n",
       "  <tbody>\n",
       "    <tr>\n",
       "      <th>Industry</th>\n",
       "      <td>207356</td>\n",
       "      <td>44000</td>\n",
       "      <td>161734</td>\n",
       "      <td>1.281649e+06</td>\n",
       "      <td>262916.438097</td>\n",
       "    </tr>\n",
       "    <tr>\n",
       "      <th>Wholesale</th>\n",
       "      <td>43668</td>\n",
       "      <td>8810</td>\n",
       "      <td>52166</td>\n",
       "      <td>5.315402e+05</td>\n",
       "      <td>48038.489872</td>\n",
       "    </tr>\n",
       "    <tr>\n",
       "      <th>Retail</th>\n",
       "      <td>144185</td>\n",
       "      <td>30836</td>\n",
       "      <td>169507</td>\n",
       "      <td>1.218760e+06</td>\n",
       "      <td>63974.052291</td>\n",
       "    </tr>\n",
       "    <tr>\n",
       "      <th>Government\\Office</th>\n",
       "      <td>494292</td>\n",
       "      <td>67290</td>\n",
       "      <td>264547</td>\n",
       "      <td>2.036895e+06</td>\n",
       "      <td>139902.485356</td>\n",
       "    </tr>\n",
       "    <tr>\n",
       "      <th>Service</th>\n",
       "      <td>572051</td>\n",
       "      <td>66280</td>\n",
       "      <td>262627</td>\n",
       "      <td>1.752031e+06</td>\n",
       "      <td>112414.880950</td>\n",
       "    </tr>\n",
       "    <tr>\n",
       "      <th>Transport</th>\n",
       "      <td>37037</td>\n",
       "      <td>10375</td>\n",
       "      <td>41896</td>\n",
       "      <td>2.636991e+05</td>\n",
       "      <td>67910.684108</td>\n",
       "    </tr>\n",
       "    <tr>\n",
       "      <th>Fleet Allocator</th>\n",
       "      <td>0</td>\n",
       "      <td>57400</td>\n",
       "      <td>459300</td>\n",
       "      <td>3.827122e+06</td>\n",
       "      <td>952756.273795</td>\n",
       "    </tr>\n",
       "  </tbody>\n",
       "</table>\n",
       "</div>"
      ],
      "text/plain": [
       "                      emp  tours   trips           vmt  med_heavy_vmt\n",
       "industry                                                             \n",
       "Industry           207356  44000  161734  1.281649e+06  262916.438097\n",
       "Wholesale           43668   8810   52166  5.315402e+05   48038.489872\n",
       "Retail             144185  30836  169507  1.218760e+06   63974.052291\n",
       "Government\\Office  494292  67290  264547  2.036895e+06  139902.485356\n",
       "Service            572051  66280  262627  1.752031e+06  112414.880950\n",
       "Transport           37037  10375   41896  2.636991e+05   67910.684108\n",
       "Fleet Allocator         0  57400  459300  3.827122e+06  952756.273795"
      ]
     },
     "execution_count": 87,
     "metadata": {},
     "output_type": "execute_result"
    }
   ],
   "source": [
    "totals = summarize_totals(emp=emp, tours=tours, trips=trips)\n",
    "totals.to_csv(dir_/'model_results_totals.csv')\n",
    "totals"
   ]
  },
  {
   "cell_type": "code",
   "execution_count": 88,
   "metadata": {},
   "outputs": [
    {
     "data": {
      "text/html": [
       "<div>\n",
       "<style scoped>\n",
       "    .dataframe tbody tr th:only-of-type {\n",
       "        vertical-align: middle;\n",
       "    }\n",
       "\n",
       "    .dataframe tbody tr th {\n",
       "        vertical-align: top;\n",
       "    }\n",
       "\n",
       "    .dataframe thead th {\n",
       "        text-align: right;\n",
       "    }\n",
       "</style>\n",
       "<table border=\"1\" class=\"dataframe\">\n",
       "  <thead>\n",
       "    <tr style=\"text-align: right;\">\n",
       "      <th></th>\n",
       "      <th>tours_per_emp</th>\n",
       "      <th>trips_per_tour</th>\n",
       "      <th>avg_trip_len</th>\n",
       "      <th>pct_light</th>\n",
       "    </tr>\n",
       "    <tr>\n",
       "      <th>industry</th>\n",
       "      <th></th>\n",
       "      <th></th>\n",
       "      <th></th>\n",
       "      <th></th>\n",
       "    </tr>\n",
       "  </thead>\n",
       "  <tbody>\n",
       "    <tr>\n",
       "      <th>Industry</th>\n",
       "      <td>0.212195</td>\n",
       "      <td>3.675773</td>\n",
       "      <td>7.924425</td>\n",
       "      <td>0.794861</td>\n",
       "    </tr>\n",
       "    <tr>\n",
       "      <th>Wholesale</th>\n",
       "      <td>0.201750</td>\n",
       "      <td>5.921226</td>\n",
       "      <td>10.189399</td>\n",
       "      <td>0.909624</td>\n",
       "    </tr>\n",
       "    <tr>\n",
       "      <th>Retail</th>\n",
       "      <td>0.213864</td>\n",
       "      <td>5.497049</td>\n",
       "      <td>7.190030</td>\n",
       "      <td>0.947509</td>\n",
       "    </tr>\n",
       "    <tr>\n",
       "      <th>Government\\Office</th>\n",
       "      <td>0.136134</td>\n",
       "      <td>3.931446</td>\n",
       "      <td>7.699559</td>\n",
       "      <td>0.931316</td>\n",
       "    </tr>\n",
       "    <tr>\n",
       "      <th>Service</th>\n",
       "      <td>0.115864</td>\n",
       "      <td>3.962387</td>\n",
       "      <td>6.671175</td>\n",
       "      <td>0.935837</td>\n",
       "    </tr>\n",
       "    <tr>\n",
       "      <th>Transport</th>\n",
       "      <td>0.280125</td>\n",
       "      <td>4.038169</td>\n",
       "      <td>6.294134</td>\n",
       "      <td>0.742469</td>\n",
       "    </tr>\n",
       "    <tr>\n",
       "      <th>Fleet Allocator</th>\n",
       "      <td>inf</td>\n",
       "      <td>8.001742</td>\n",
       "      <td>8.332510</td>\n",
       "      <td>0.751052</td>\n",
       "    </tr>\n",
       "  </tbody>\n",
       "</table>\n",
       "</div>"
      ],
      "text/plain": [
       "                   tours_per_emp  trips_per_tour  avg_trip_len  pct_light\n",
       "industry                                                                 \n",
       "Industry                0.212195        3.675773      7.924425   0.794861\n",
       "Wholesale               0.201750        5.921226     10.189399   0.909624\n",
       "Retail                  0.213864        5.497049      7.190030   0.947509\n",
       "Government\\Office       0.136134        3.931446      7.699559   0.931316\n",
       "Service                 0.115864        3.962387      6.671175   0.935837\n",
       "Transport               0.280125        4.038169      6.294134   0.742469\n",
       "Fleet Allocator              inf        8.001742      8.332510   0.751052"
      ]
     },
     "execution_count": 88,
     "metadata": {},
     "output_type": "execute_result"
    }
   ],
   "source": [
    "rates = summarize_rates(trips=trips, totals=totals)\n",
    "rates.to_csv(dir_/'model_results_rates.csv')\n",
    "rates"
   ]
  },
  {
   "cell_type": "code",
   "execution_count": null,
   "metadata": {},
   "outputs": [],
   "source": []
  }
 ],
 "metadata": {
  "kernelspec": {
   "display_name": "Python 3",
   "language": "python",
   "name": "python3"
  },
  "language_info": {
   "codemirror_mode": {
    "name": "ipython",
    "version": 3
   },
   "file_extension": ".py",
   "mimetype": "text/x-python",
   "name": "python",
   "nbconvert_exporter": "python",
   "pygments_lexer": "ipython3",
   "version": "3.11.5"
  }
 },
 "nbformat": 4,
 "nbformat_minor": 2
}
