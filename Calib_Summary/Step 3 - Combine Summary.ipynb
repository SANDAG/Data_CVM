{
 "cells": [
  {
   "cell_type": "code",
   "execution_count": 1,
   "metadata": {},
   "outputs": [],
   "source": [
    "import pandas as pd\n",
    "import os\n",
    "\n",
    "from openpyxl import load_workbook"
   ]
  },
  {
   "cell_type": "code",
   "execution_count": 3,
   "metadata": {},
   "outputs": [],
   "source": [
    "## Update paths\n",
    "root_path = os.path.join(os.getcwd())\n",
    "model_summary = os.path.join(root_path, r\"Final_CVM_Model_Summary.xlsx\")\n",
    "survey_summary = os.path.join(root_path, r\"Final_CVM_Survey_Summary.xlsx\")\n",
    "\n",
    "\n",
    "calibration_template = os.path.join(root_path, \"CVM_Calibration_Template.xlsx\")\n",
    "final_summary = os.path.join(root_path, \"CVM_Calibration_FINAL.xlsx\")"
   ]
  },
  {
   "cell_type": "code",
   "execution_count": null,
   "id": "299ab7ce",
   "metadata": {},
   "outputs": [],
   "source": [
    "model_data_workbook = load_workbook(filename=model_summary, read_only=True)\n",
    "model_data_sheet = model_data_workbook['ModelData']\n",
    "\n",
    "survey_data_workbook = load_workbook(filename=survey_summary, read_only=True)\n",
    "survey_data_sheet = survey_data_workbook['SurveyData']\n",
    "\n",
    "dest_workbook = load_workbook(filename=calibration_template)\n",
    "\n",
    "\n",
    "dest_model_data_sheet = dest_workbook['ModelData']\n",
    "dest_model_data_sheet.delete_rows(dest_model_data_sheet.min_row, dest_model_data_sheet.max_row)\n",
    "\n",
    "dest_survey_data_sheet = dest_workbook['SurveyData']\n",
    "dest_survey_data_sheet.delete_rows(dest_model_data_sheet.min_row, dest_model_data_sheet.max_row)\n",
    "\n",
    "for row in model_data_sheet.iter_rows(values_only=True):\n",
    "    dest_model_data_sheet.append(row)\n",
    "\n",
    "for row in survey_data_sheet.iter_rows(values_only=True):\n",
    "    dest_survey_data_sheet.append(row)\n",
    "\n",
    "# Save changes to the destination workbook\n",
    "dest_workbook.save(filename=final_summary)"
   ]
  },
  {
   "cell_type": "code",
   "execution_count": 5,
   "metadata": {},
   "outputs": [
    {
     "name": "stdout",
     "output_type": "stream",
     "text": [
      "complete!\n"
     ]
    }
   ],
   "source": [
    "print(\"complete!\")"
   ]
  },
  {
   "cell_type": "code",
   "execution_count": null,
   "metadata": {},
   "outputs": [],
   "source": []
  }
 ],
 "metadata": {
  "kernelspec": {
   "display_name": "base",
   "language": "python",
   "name": "python3"
  },
  "language_info": {
   "codemirror_mode": {
    "name": "ipython",
    "version": 3
   },
   "file_extension": ".py",
   "mimetype": "text/x-python",
   "name": "python",
   "nbconvert_exporter": "python",
   "pygments_lexer": "ipython3",
   "version": "3.12.7"
  }
 },
 "nbformat": 4,
 "nbformat_minor": 5
}
