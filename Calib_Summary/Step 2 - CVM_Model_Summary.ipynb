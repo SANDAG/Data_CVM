{
 "cells": [
  {
   "cell_type": "code",
   "execution_count": 1,
   "metadata": {},
   "outputs": [],
   "source": [
    "import pandas as pd\n",
    "import os\n",
    "import openmatrix as omx\n",
    "import numpy as np\n",
    "from itertools import product\n",
    "\n",
    "\n",
    "_join = os.path.join"
   ]
  },
  {
   "cell_type": "code",
   "execution_count": 2,
   "metadata": {},
   "outputs": [],
   "source": [
    "# path to the model directory\n",
    "model_dir = r\"C:\\_projects\\ABM_VY\\src\\asim-cvm\"\n",
    "\n",
    "# path to the model output directory\n",
    "model_output_dir = _join(model_dir, r\"output CVM\")\n",
    "\n",
    "# path to the model data directory\n",
    "model_data_dir = _join(model_dir, \"data\")"
   ]
  },
  {
   "cell_type": "code",
   "execution_count": 3,
   "metadata": {},
   "outputs": [],
   "source": [
    "# mappings\n",
    "\n",
    "industries = {\n",
    "    \"Agriculture/Mining\" : 1,\n",
    "    \"Construction\" : 6,\n",
    "    \"Education/Other public services\" : 9,\n",
    "    \"Industrial/Utilities\": 3,\n",
    "    \"Info/Finance/Insurance/Real Estate/Professional services\": 8,\n",
    "    \"Leisure/Accommodations and Food\": 11,\n",
    "    \"Manufacturing\" : 2,\n",
    "    \"Medical/Health Services\" : 10,\n",
    "    \"Retail\" : 4,\n",
    "    \"Transportation\" : 7, \n",
    "    \"Wholesale\" : 5,\n",
    "    \"Military\" : 12,\n",
    "}\n",
    "\n",
    "industry_groups = {\n",
    "    \"Agriculture/Mining\" : 1,\n",
    "    \"Construction\" : 2,\n",
    "    \"Education/Other public services\" : 4,\n",
    "    \"Industrial/Utilities\": 2,\n",
    "    \"Info/Finance/Insurance/Real Estate/Professional services\": 3,\n",
    "    \"Leisure/Accommodations and Food\":3,\n",
    "    \"Manufacturing\" : 1,\n",
    "    \"Medical/Health Services\" : 4,\n",
    "    \"Retail\" : 2,\n",
    "    \"Transportation\" : 2,\n",
    "    \"Wholesale\" : 1,\n",
    "    \"Military\" : 5,\n",
    "}\n",
    "\n",
    "rte_gen_industry2group ={\n",
    "    \"AGM\": 1,\n",
    "    \"MFG\": 1,\n",
    "    \"IUT\": 2,\n",
    "    \"RET\": 2,\n",
    "    \"WHL\": 1,\n",
    "    \"CON\": 2,\n",
    "    \"TRN\": 2,\n",
    "    \"IFR\": 3,\n",
    "    \"EPO\": 4,\n",
    "    \"MHS\": 4,\n",
    "    \"LAF\": 3,\n",
    "    \"MIL\": 5\n",
    "}\n",
    "\n",
    "est_attractor_industry2group ={\n",
    "    \"AGM\": 3,\n",
    "    \"MFG\": 1,\n",
    "    \"IUT\": 2,\n",
    "    \"RET\": 1,\n",
    "    \"WHL\": 1,\n",
    "    \"CON\": 3,\n",
    "    \"TRN\": 3,\n",
    "    \"IFR\": 4,\n",
    "    \"EPO\": 3,\n",
    "    \"MHS\": 3,\n",
    "    \"LAF\": 2,\n",
    "    \"MIL\": 5\n",
    "}\n",
    "\n",
    "vpc_alt = {\n",
    "    \"Goods_Mixed_LCV\":1,\n",
    "    \"Goods_Mixed_MUT\":2,\n",
    "    \"Goods_Mixed_SUT\":3,\n",
    "    \"Goods_NonRes_LCV\":4,\n",
    "    \"Goods_NonRes_MUT\":5,\n",
    "    \"Goods_NonRes_SUT\":6,\n",
    "    \"Goods_Res_LCV\":7,\n",
    "    \"Goods_Res_MUT\":8,\n",
    "    \"Goods_Res_SUT\":9,\n",
    "    \"Maintenance_LCV\":10,\n",
    "    \"Maintenance_MUT\":11,\n",
    "    \"Maintenance_SUT\":12,\n",
    "    \"Service_Mixed_LCV\":13,\n",
    "    \"Service_Mixed_MUT\":14,\n",
    "    \"Service_Mixed_SUT\":15,\n",
    "    \"Service_NonRes_LCV\":16,\n",
    "    \"Service_NonRes_MUT\":17,\n",
    "    \"Service_NonRes_SUT\":18,\n",
    "    \"Service_Res_LCV\":19,\n",
    "    \"Service_Res_MUT\":20,\n",
    "    \"Service_Res_SUT\":21,\n",
    "}\n",
    "\n",
    "# TOD dictionary\n",
    "tod_crwk = {i: 'EA' if i <= 6 else 'AM' if i <= 12 else 'MD' if i <= 25 else 'PM' if i <= 32 else 'EV' for i in range(1, 49)}\n",
    "\n",
    "# convert all MGRA to TAZ\n",
    "landuse = pd.read_csv(_join(model_data_dir, r\"mgra15_based_input2022.csv\"))\n",
    "mgra2taz = dict(zip(landuse['mgra'], landuse['taz']))"
   ]
  },
  {
   "cell_type": "code",
   "execution_count": 4,
   "metadata": {},
   "outputs": [],
   "source": [
    "# Additional functions\n",
    "def array2df(array, cols =['orig', 'dest', 'od']):\n",
    "    \"\"\"\n",
    "    Convert a numpy array to a dataframe\n",
    "    \"\"\"\n",
    "    df = pd.DataFrame(array)\n",
    "    df = pd.melt(df.reset_index(), id_vars='index', value_vars=df.columns)\n",
    "    df['index'] = df['index'] + 1\n",
    "    df['variable'] = df['variable'] + 1\n",
    "    df.columns = cols\n",
    "    \n",
    "    return df"
   ]
  },
  {
   "cell_type": "code",
   "execution_count": 5,
   "metadata": {},
   "outputs": [],
   "source": [
    "## household_attractor\n",
    "## establishment_attractor\n",
    "## cvm_accessibility\n",
    "## route_generation\n",
    "## route_generation_tnc\n",
    "## route_purpose_and_vehicle\n",
    "## route_start_time\n",
    "## route_origination_type\n",
    "## route_origination\n",
    "## route_terminal_type\n",
    "## route_terminal\n",
    "## route_stops\n",
    "## write_cvm_trip_matrices\n",
    "## write_tables"
   ]
  },
  {
   "cell_type": "markdown",
   "metadata": {},
   "source": [
    "## Household Attractor Model"
   ]
  },
  {
   "cell_type": "code",
   "execution_count": 6,
   "metadata": {},
   "outputs": [],
   "source": [
    "# Read input data -- establishment file\n",
    "households = pd.read_csv(os.path.join(model_output_dir, r\"cvm_households.csv\"))   \n",
    "persons = pd.read_csv(os.path.join(model_data_dir, r\"final_persons.csv\"))"
   ]
  },
  {
   "cell_type": "code",
   "execution_count": 7,
   "metadata": {},
   "outputs": [],
   "source": [
    "# Recode\n",
    "households['Food'] = 0\n",
    "households.loc[households['has_attraction_food'] == True, 'Food'] = 1\n",
    "households['Package'] = 0\n",
    "households.loc[households['has_attraction_package'] == True, 'Package'] = 1\n",
    "households['Service'] = 0\n",
    "households.loc[households['has_attraction_service'] == True, 'Service'] = 1\n",
    "\n",
    "# Relabel the income categories as follows:\n",
    "# Define the bins and labels for categorization\n",
    "bins = [0, 50000, 100000, 200000,np.Inf] \n",
    "labels = [1, 2, 3, 4,]  \n",
    "\n",
    "households['Income_Group'] = pd.cut(households['income'], bins=bins, labels=labels, right=False)\n",
    "\n",
    "# Relabel the hh size categories as follows:\n",
    "\n",
    "    # HHTS Category ---- Summary Category\n",
    "    # 1   ----1\n",
    "    # 2  ---- 2\n",
    "    # 3  ---- 3 \n",
    "    # 4  ---- 4\n",
    "    # 5  ---- 5\n",
    "    # 6  ---- 6+\n",
    "    # 7  ---- 6+\n",
    "    # 8  ---- 6+\n",
    "    # 9  ---- 6+\n",
    "    # 10  ---- 6+\n",
    "    # 11  ---- 6+\n",
    "    # 12  ---- 6+\n",
    "    # 13  ---- 6+\n",
    "    # 995 ---- 0\n",
    "\n",
    "hhsize_category_mapping = {\n",
    "    1: '1',\n",
    "    2: '2',\n",
    "    3: '3',\n",
    "    4: '4',\n",
    "    5: '5',\n",
    "    6: '6+',\n",
    "    7: '6+',\n",
    "    8: '6+',\n",
    "    9: '6+',\n",
    "    10: '6+',\n",
    "    11: '6+',\n",
    "    12: '6+',\n",
    "    13: '6+',\n",
    "    995: '0',\n",
    "}\n",
    "\n",
    "households['HHsize_Group'] = households['hhsize'].map(hhsize_category_mapping)\n",
    "\n",
    "# Relabel the vehicle ownership categories as follows:\n",
    "\n",
    "    # HHTS Category ---- Summary Category\n",
    "    # 1   ----1\n",
    "    # 2  ---- 2\n",
    "    # 3  ---- 3 \n",
    "    # 4  ---- 4\n",
    "    # 5  ---- 5+\n",
    "    # 6  ---- 5+\n",
    "    # 7  ---- 5+\n",
    "    # 8  ---- 5+\n",
    "\n",
    "veh_category_mapping = {\n",
    "    1: '1',\n",
    "    2: '2',\n",
    "    3: '3',\n",
    "    4: '4',\n",
    "    5: '5+',\n",
    "    6: '5+',\n",
    "    7: '5+',\n",
    "    8: '5+',\n",
    "}\n",
    "\n",
    "households['Auto_Ownership_Group'] = households['auto_ownership'].map(veh_category_mapping)\n",
    "\n",
    "# Relabel the age to some binary categories as follows:\n",
    "persons['Age_Group_1'] = 0\n",
    "persons.loc[(persons.age >= 55) & (persons.age <75), 'Age_Group_1'] = 1\n",
    "persons['Age_Group_2'] = 0\n",
    "persons.loc[(persons.age >= 75) & (persons.age <150), 'Age_Group_2'] = 1 # added the max limit of 150, obviously age of more than 150 is not reasonable at least now!!\n",
    "persons['Age_Group_3'] = 0\n",
    "persons.loc[(persons.age < 55) & (persons.age >= 0), 'Age_Group_3'] = 1\n"
   ]
  },
  {
   "cell_type": "code",
   "execution_count": 8,
   "metadata": {},
   "outputs": [],
   "source": [
    "# group persons data to hh level and create binary age group variables\n",
    "persons_hh = persons.groupby(['household_id'], as_index=False). agg({\n",
    "    'Age_Group_1' : 'max',\n",
    "    'Age_Group_2' : 'max',\n",
    "    'Age_Group_3' : 'max'\n",
    "})\n",
    "\n",
    "# merge the persons data to the households data\n",
    "households = households.merge(persons_hh, on = 'household_id', how='left')\n",
    "\n",
    "\n",
    "# Attractor Data\n",
    "# Wide to long format\n",
    "\n",
    "cols_to_melt = ['household_id', 'Food', 'Service', 'Package']\n",
    "households_long = pd.melt(households[cols_to_melt], id_vars=['household_id'], var_name='Attractor', value_name='Value')\n",
    "\n",
    "# adding additional attributes from the Households file\n",
    "cols_hh = ['home_zone_id', 'household_id', 'income', 'hhsize', 'auto_ownership', 'Income_Group', 'HHsize_Group', 'Auto_Ownership_Group', 'Age_Group_1', 'Age_Group_2', 'Age_Group_3']\n",
    "\n",
    "hh = households_long.merge(households[cols_hh], how='left', on='household_id')"
   ]
  },
  {
   "cell_type": "code",
   "execution_count": 9,
   "metadata": {},
   "outputs": [],
   "source": [
    "# CVM Summary Results\n",
    "mdl_hh_group = hh.groupby(['Attractor']).agg({'Value': 'mean'}).reset_index()\n",
    "\n",
    "# Segment by Age Group 1\n",
    "mdl_hh_Age_1 = hh.groupby(['Attractor', 'Age_Group_1']).agg({'Value': 'mean'})\n",
    "mdl_hh_Age_1 = mdl_hh_Age_1.reset_index().pivot(columns='Attractor', index='Age_Group_1', values='Value').reset_index()\n",
    "\n",
    "# Segment by Age Group 2\n",
    "mdl_hh_Age_2 = hh.groupby(['Attractor', 'Age_Group_2']).agg({'Value': 'mean'})\n",
    "mdl_hh_Age_2 = mdl_hh_Age_2.reset_index().pivot(columns='Attractor', index='Age_Group_2', values='Value').reset_index()\n",
    "\n",
    "# Segment by Age Group 3\n",
    "mdl_hh_Age_3 = hh.groupby(['Attractor', 'Age_Group_3']).agg({'Value': 'mean'})\n",
    "mdl_hh_Age_3 = mdl_hh_Age_3.reset_index().pivot(columns='Attractor', index='Age_Group_3', values='Value').reset_index()\n",
    "\n",
    "# Segment by Income\n",
    "mdl_hh_Income = hh.groupby(['Attractor', 'Income_Group']).agg({'Value': 'mean'})\n",
    "mdl_hh_Income = mdl_hh_Income.reset_index().pivot(columns='Attractor', index='Income_Group', values='Value').reset_index()\n"
   ]
  },
  {
   "cell_type": "markdown",
   "metadata": {},
   "source": [
    "## Establishment Attractor Model"
   ]
  },
  {
   "cell_type": "code",
   "execution_count": 10,
   "metadata": {},
   "outputs": [
    {
     "name": "stderr",
     "output_type": "stream",
     "text": [
      "C:\\Users\\jgliebe\\AppData\\Local\\Temp\\ipykernel_11080\\80889698.py:2: DtypeWarning: Columns (7,9) have mixed types. Specify dtype option on import or set low_memory=False.\n",
      "  mdl_cvm_est = pd.read_csv(os.path.join(model_output_dir, \"cvm_establishments.csv\"))\n"
     ]
    }
   ],
   "source": [
    "# read the cvm establishment output file\n",
    "mdl_cvm_est = pd.read_csv(os.path.join(model_output_dir, \"cvm_establishments.csv\"))\n",
    "mdl_cvm_est['industry_group2'] = mdl_cvm_est['industry_name'].map(est_attractor_industry2group)\n",
    "\n",
    "temp1 = mdl_cvm_est.groupby(['industry_group2']).size().reset_index(name='count')\n",
    "temp2 = mdl_cvm_est.groupby(['industry_group2'])['has_attraction'].sum().reset_index(name='attraction_count')\n",
    "mdl_est_att_ind_grp = temp1.merge(temp2, on = 'industry_group2', how='left')\n",
    "\n",
    "est = mdl_cvm_est[mdl_cvm_est['attractions']>0]\n",
    "temp1 = est.groupby(\"industry_number\")[\"attractions\"].sum().reset_index(name='sum_attractions')\n",
    "temp2 = est.groupby(\"industry_number\")[\"attractions\"].mean().reset_index(name='mean_attractions')\n",
    "mdl_est_att_ind_num = temp1.merge(temp2, on=['industry_number'], how = 'outer')"
   ]
  },
  {
   "cell_type": "markdown",
   "metadata": {},
   "source": [
    "## Route Generation"
   ]
  },
  {
   "cell_type": "code",
   "execution_count": 11,
   "metadata": {},
   "outputs": [
    {
     "name": "stderr",
     "output_type": "stream",
     "text": [
      "C:\\Users\\jgliebe\\AppData\\Local\\Temp\\ipykernel_11080\\997532497.py:2: DtypeWarning: Columns (7,9) have mixed types. Specify dtype option on import or set low_memory=False.\n",
      "  mdl_cvm_est = pd.read_csv(os.path.join(model_output_dir, \"cvm_establishments.csv\"))\n"
     ]
    }
   ],
   "source": [
    "# read the cvm establishment output file\n",
    "mdl_cvm_est = pd.read_csv(os.path.join(model_output_dir, \"cvm_establishments.csv\"))\n",
    "\n",
    "mdl_cvm_est[\"industry_group_num\"] = mdl_cvm_est['industry_name'].map(rte_gen_industry2group)\n",
    "mdl_tot_rte_indgrp = mdl_cvm_est.groupby(['industry_group_num', 'has_generation'])['n_routes'].count().reset_index().rename(\n",
    "    columns={'n_routes': 'total_routes'})\n",
    "\n",
    "mdl_tot_rte_indnum = mdl_cvm_est.groupby(['industry_number'])['n_routes'].sum().reset_index().rename(\n",
    "    columns={'n_routes': 'total_routes'})"
   ]
  },
  {
   "cell_type": "code",
   "execution_count": 12,
   "metadata": {},
   "outputs": [],
   "source": [
    "# read the cvm routes file\n",
    "mdl_cvm_routes = pd.read_csv(_join(model_output_dir, \"cvm_routes.csv\"))\n",
    "\n",
    "# filter the TNC routes\n",
    "mdl_cvm_tnc = mdl_cvm_routes.loc[mdl_cvm_routes['is_tnc'] == True]\n",
    "\n",
    "# TNC route generation by business type\n",
    "mdl_cvm_tnc_rte_gen = mdl_cvm_tnc.groupby(['business_type'])['route_id'].count().reset_index()\n",
    "\n",
    "# Extract the non-TNC routes\n",
    "mdl_cvm_routes_non_tnc = mdl_cvm_routes.loc[mdl_cvm_routes['is_tnc'] == False]"
   ]
  },
  {
   "cell_type": "code",
   "execution_count": 13,
   "metadata": {},
   "outputs": [
    {
     "name": "stderr",
     "output_type": "stream",
     "text": [
      "C:\\Users\\jgliebe\\AppData\\Local\\Temp\\ipykernel_11080\\793761884.py:1: SettingWithCopyWarning: \n",
      "A value is trying to be set on a copy of a slice from a DataFrame.\n",
      "Try using .loc[row_indexer,col_indexer] = value instead\n",
      "\n",
      "See the caveats in the documentation: https://pandas.pydata.org/pandas-docs/stable/user_guide/indexing.html#returning-a-view-versus-a-copy\n",
      "  mdl_cvm_routes_non_tnc['group'] = 0\n",
      "C:\\Users\\jgliebe\\AppData\\Local\\Temp\\ipykernel_11080\\793761884.py:4: SettingWithCopyWarning: \n",
      "A value is trying to be set on a copy of a slice from a DataFrame.\n",
      "Try using .loc[row_indexer,col_indexer] = value instead\n",
      "\n",
      "See the caveats in the documentation: https://pandas.pydata.org/pandas-docs/stable/user_guide/indexing.html#returning-a-view-versus-a-copy\n",
      "  mdl_cvm_routes_non_tnc.loc[(mdl_cvm_routes_non_tnc['route_purpose'] == 'goods') &\n"
     ]
    }
   ],
   "source": [
    "mdl_cvm_routes_non_tnc['group'] = 0\n",
    "\n",
    "# Assign the group based on the route purpose, customer type and vehicle type\n",
    "mdl_cvm_routes_non_tnc.loc[(mdl_cvm_routes_non_tnc['route_purpose'] == 'goods') & \n",
    "                 (mdl_cvm_routes_non_tnc['customer_type'] == 'mixed') & \n",
    "                 (mdl_cvm_routes_non_tnc['vehicle_type'] == 'LCV'), 'group'] = 'Goods_Mixed_LCV'\n",
    "\n",
    "mdl_cvm_routes_non_tnc.loc[(mdl_cvm_routes_non_tnc['route_purpose'] == 'goods') & \n",
    "                 (mdl_cvm_routes_non_tnc['customer_type'] == 'mixed') & \n",
    "                 (mdl_cvm_routes_non_tnc['vehicle_type'] == 'MUT'), 'group'] = 'Goods_Mixed_MUT'\n",
    "\n",
    "mdl_cvm_routes_non_tnc.loc[(mdl_cvm_routes_non_tnc['route_purpose'] == 'goods') & \n",
    "                 (mdl_cvm_routes_non_tnc['customer_type'] == 'mixed') & \n",
    "                 (mdl_cvm_routes_non_tnc['vehicle_type'] == 'SUT'), 'group'] = 'Goods_Mixed_SUT'\n",
    "\n",
    "mdl_cvm_routes_non_tnc.loc[(mdl_cvm_routes_non_tnc['route_purpose'] == 'goods') & \n",
    "                 (mdl_cvm_routes_non_tnc['customer_type'] == 'nonresidential') & \n",
    "                 (mdl_cvm_routes_non_tnc['vehicle_type'] == 'LCV'), 'group'] = 'Goods_NonRes_LCV'\n",
    "\n",
    "mdl_cvm_routes_non_tnc.loc[(mdl_cvm_routes_non_tnc['route_purpose'] == 'goods') & \n",
    "                 (mdl_cvm_routes_non_tnc['customer_type'] == 'nonresidential') & \n",
    "                 (mdl_cvm_routes_non_tnc['vehicle_type'] == 'MUT'), 'group'] = 'Goods_NonRes_MUT'\n",
    "\n",
    "mdl_cvm_routes_non_tnc.loc[(mdl_cvm_routes_non_tnc['route_purpose'] == 'goods') & \n",
    "                 (mdl_cvm_routes_non_tnc['customer_type'] == 'nonresidential') & \n",
    "                 (mdl_cvm_routes_non_tnc['vehicle_type'] == 'SUT'), 'group'] = 'Goods_NonRes_SUT'\n",
    "\n",
    "mdl_cvm_routes_non_tnc.loc[(mdl_cvm_routes_non_tnc['route_purpose'] == 'goods') & \n",
    "                 (mdl_cvm_routes_non_tnc['customer_type'] == 'residential') & \n",
    "                 (mdl_cvm_routes_non_tnc['vehicle_type'] == 'LCV'), 'group'] = 'Goods_Res_LCV'\n",
    "\n",
    "mdl_cvm_routes_non_tnc.loc[(mdl_cvm_routes_non_tnc['route_purpose'] == 'goods') & \n",
    "                 (mdl_cvm_routes_non_tnc['customer_type'] == 'residential') & \n",
    "                 (mdl_cvm_routes_non_tnc['vehicle_type'] == 'MUT'), 'group'] = 'Goods_Res_MUT'\n",
    "\n",
    "mdl_cvm_routes_non_tnc.loc[(mdl_cvm_routes_non_tnc['route_purpose'] == 'goods') & \n",
    "                 (mdl_cvm_routes_non_tnc['customer_type'] == 'residential') & \n",
    "                 (mdl_cvm_routes_non_tnc['vehicle_type'] == 'SUT'), 'group'] = 'Goods_Res_SUT'\n",
    "\n",
    "mdl_cvm_routes_non_tnc.loc[(mdl_cvm_routes_non_tnc['route_purpose'] == 'maintenance') & \n",
    "                 (mdl_cvm_routes_non_tnc['vehicle_type'] == 'LCV'), 'group'] = 'Maintenance_LCV'\n",
    "\n",
    "mdl_cvm_routes_non_tnc.loc[(mdl_cvm_routes_non_tnc['route_purpose'] == 'maintenance') & \n",
    "                 (mdl_cvm_routes_non_tnc['vehicle_type'] == 'MUT'), 'group'] = 'Maintenance_MUT'\n",
    "\n",
    "mdl_cvm_routes_non_tnc.loc[(mdl_cvm_routes_non_tnc['route_purpose'] == 'maintenance') & \n",
    "                 (mdl_cvm_routes_non_tnc['vehicle_type'] == 'SUT'), 'group'] = 'Maintenance_SUT'\n",
    "\n",
    "mdl_cvm_routes_non_tnc.loc[(mdl_cvm_routes_non_tnc['route_purpose'] == 'service') & \n",
    "                 (mdl_cvm_routes_non_tnc['customer_type'] == 'mixed') & \n",
    "                 (mdl_cvm_routes_non_tnc['vehicle_type'] == 'LCV'), 'group'] = 'Service_Mixed_LCV'\n",
    "\n",
    "mdl_cvm_routes_non_tnc.loc[(mdl_cvm_routes_non_tnc['route_purpose'] == 'service') & \n",
    "                 (mdl_cvm_routes_non_tnc['customer_type'] == 'mixed') & \n",
    "                 (mdl_cvm_routes_non_tnc['vehicle_type'] == 'MUT'), 'group'] = 'Service_Mixed_MUT'\n",
    "\n",
    "mdl_cvm_routes_non_tnc.loc[(mdl_cvm_routes_non_tnc['route_purpose'] == 'service') & \n",
    "                 (mdl_cvm_routes_non_tnc['customer_type'] == 'mixed') & \n",
    "                 (mdl_cvm_routes_non_tnc['vehicle_type'] == 'SUT'), 'group'] = 'Service_Mixed_SUT'\n",
    "\n",
    "mdl_cvm_routes_non_tnc.loc[(mdl_cvm_routes_non_tnc['route_purpose'] == 'service') & \n",
    "                 (mdl_cvm_routes_non_tnc['customer_type'] == 'nonresidential') & \n",
    "                 (mdl_cvm_routes_non_tnc['vehicle_type'] == 'LCV'), 'group'] = 'Service_NonRes_LCV'\n",
    "\n",
    "mdl_cvm_routes_non_tnc.loc[(mdl_cvm_routes_non_tnc['route_purpose'] == 'service') & \n",
    "                 (mdl_cvm_routes_non_tnc['customer_type'] == 'nonresidential') & \n",
    "                 (mdl_cvm_routes_non_tnc['vehicle_type'] == 'MUT'), 'group'] = 'Service_NonRes_MUT'\n",
    "\n",
    "mdl_cvm_routes_non_tnc.loc[(mdl_cvm_routes_non_tnc['route_purpose'] == 'service') & \n",
    "                 (mdl_cvm_routes_non_tnc['customer_type'] == 'nonresidential') & \n",
    "                 (mdl_cvm_routes_non_tnc['vehicle_type'] == 'SUT'), 'group'] = 'Service_NonRes_SUT'\n",
    "\n",
    "mdl_cvm_routes_non_tnc.loc[(mdl_cvm_routes_non_tnc['route_purpose'] == 'service') & \n",
    "                 (mdl_cvm_routes_non_tnc['customer_type'] == 'residential') & \n",
    "                 (mdl_cvm_routes_non_tnc['vehicle_type'] == 'LCV'), 'group'] = 'Service_Res_LCV'\n",
    "\n",
    "mdl_cvm_routes_non_tnc.loc[(mdl_cvm_routes_non_tnc['route_purpose'] == 'service') & \n",
    "                 (mdl_cvm_routes_non_tnc['customer_type'] == 'residential') & \n",
    "                 (mdl_cvm_routes_non_tnc['vehicle_type'] == 'MUT'), 'group'] = 'Service_Res_MUT'\n",
    "\n",
    "mdl_cvm_routes_non_tnc.loc[(mdl_cvm_routes_non_tnc['route_purpose'] == 'service') & \n",
    "                 (mdl_cvm_routes_non_tnc['customer_type'] == 'residential') & \n",
    "                 (mdl_cvm_routes_non_tnc['vehicle_type'] == 'SUT'), 'group'] = 'Service_Res_SUT'"
   ]
  },
  {
   "cell_type": "code",
   "execution_count": 14,
   "metadata": {},
   "outputs": [
    {
     "name": "stderr",
     "output_type": "stream",
     "text": [
      "C:\\Users\\jgliebe\\AppData\\Local\\Temp\\ipykernel_11080\\174748311.py:2: SettingWithCopyWarning: \n",
      "A value is trying to be set on a copy of a slice from a DataFrame.\n",
      "Try using .loc[row_indexer,col_indexer] = value instead\n",
      "\n",
      "See the caveats in the documentation: https://pandas.pydata.org/pandas-docs/stable/user_guide/indexing.html#returning-a-view-versus-a-copy\n",
      "  mdl_cvm_routes_non_tnc['vpc_alt'] = mdl_cvm_routes_non_tnc['group'].map(vpc_alt)\n"
     ]
    }
   ],
   "source": [
    "# Map the group to the vpc_alt\n",
    "mdl_cvm_routes_non_tnc['vpc_alt'] = mdl_cvm_routes_non_tnc['group'].map(vpc_alt)\n",
    "\n",
    "# route generation by industry group\n",
    "route_purp_veh_smry = mdl_cvm_routes_non_tnc.groupby(['vpc_alt', 'group'])['route_id'].count().reset_index()"
   ]
  },
  {
   "cell_type": "markdown",
   "metadata": {},
   "source": [
    "## Route Start Time"
   ]
  },
  {
   "cell_type": "code",
   "execution_count": 15,
   "metadata": {},
   "outputs": [],
   "source": [
    "mdl_cvm_routes = pd.read_csv(_join(model_output_dir, \"cvm_routes.csv\")) #includes both tnc and non-tnc routes\n",
    "mdl_rte_start_time = mdl_cvm_routes['start_time'].value_counts().reset_index().sort_values(by='start_time')\n",
    "\n",
    "mdl_cvm_routes_non_tnc['start_time_period'] = 0\n",
    "mdl_cvm_routes_non_tnc['start_time_period'] = mdl_cvm_routes_non_tnc['start_time'].map(tod_crwk)\n",
    "mdl_rte_cvm_start_time_period = mdl_cvm_routes_non_tnc['start_time_period'].value_counts().reset_index()"
   ]
  },
  {
   "cell_type": "code",
   "execution_count": null,
   "metadata": {},
   "outputs": [],
   "source": [
    "mdl_cvm_routes_tnc['start_time_period'] = 0\n",
    "mdl_cvm_routes_tnc['start_time_period'] = mdl_cvm_routes_tnc['start_time'].map(tod_crwk)\n",
    "mdl_tnc_route_start_time_period = mdl_cvm_routes_tnc['start_time_period'].value_counts().reset_index()"
   ]
  },
  {
   "cell_type": "markdown",
   "metadata": {},
   "source": [
    "## Route Origination Terminal Type\n"
   ]
  },
  {
   "cell_type": "code",
   "execution_count": 16,
   "metadata": {},
   "outputs": [],
   "source": [
    "# get AM distances from skims for each mode for origin\n",
    "skims_dist = omx.open_file(_join(model_data_dir, \"traffic_skims_AM.omx\"))\n",
    "lcv_am_dist = array2df(np.array(skims_dist['TRK_L_DIST__AM']), cols=['orig', 'dest', 'am_dist'])\n",
    "sut_am_dist = array2df(np.array(skims_dist['TRK_M_DIST__AM']), cols=['orig', 'dest', 'am_dist'])\n",
    "mut_am_dist = array2df(np.array(skims_dist['TRK_H_DIST__AM']), cols=['orig', 'dest', 'am_dist'])\n",
    "skims_dist.close()\n",
    "\n",
    "# get MD distances from skims for each mode for terminal\n",
    "skims_dist = omx.open_file(_join(model_data_dir, \"traffic_skims_MD.omx\"))\n",
    "lcv_md_dist = array2df(np.array(skims_dist['TRK_L_DIST__MD']), cols=['orig', 'dest', 'md_dist'])\n",
    "sut_md_dist = array2df(np.array(skims_dist['TRK_M_DIST__MD']), cols=['orig', 'dest', 'md_dist'])\n",
    "mut_md_dist = array2df(np.array(skims_dist['TRK_H_DIST__MD']), cols=['orig', 'dest', 'md_dist'])\n",
    "skims_dist.close()"
   ]
  },
  {
   "cell_type": "code",
   "execution_count": 17,
   "metadata": {},
   "outputs": [
    {
     "name": "stderr",
     "output_type": "stream",
     "text": [
      "C:\\Users\\jgliebe\\AppData\\Local\\Temp\\ipykernel_11080\\2610297841.py:3: DtypeWarning: Columns (7,9) have mixed types. Specify dtype option on import or set low_memory=False.\n",
      "  mdl_establishments = pd.read_csv(_join(model_output_dir, \"cvm_establishments.csv\"))\n"
     ]
    }
   ],
   "source": [
    "# output files from model\n",
    "mdl_cvm_routes = pd.read_csv(_join(model_output_dir, \"cvm_routes.csv\"))\n",
    "mdl_establishments = pd.read_csv(_join(model_output_dir, \"cvm_establishments.csv\"))\n",
    "\n",
    "mdl_establishments['estab_taz'] = mdl_establishments['zone_id'].map(mgra2taz)\n",
    "mdl_cvm_routes['orig_taz'] = mdl_cvm_routes['origination_zone'].map(mgra2taz)\n",
    "mdl_cvm_routes['dest_taz'] = mdl_cvm_routes['terminal_zone'].map(mgra2taz)"
   ]
  },
  {
   "cell_type": "code",
   "execution_count": 18,
   "metadata": {},
   "outputs": [],
   "source": [
    "mdl_cvm_routes = pd.merge(mdl_cvm_routes, \n",
    "                          mdl_establishments[['establishment_id', 'estab_taz']], \n",
    "                          on='establishment_id', \n",
    "                          how='left'\n",
    "                          )\n",
    "\n",
    "# merge the skim distance with routes for each mode - from establishment taz to origin taz\n",
    "mdl_lcv_routes = mdl_cvm_routes[mdl_cvm_routes['vehicle_type'] == 'LCV'].copy()\n",
    "mdl_lcv_routes = pd.merge(mdl_lcv_routes, lcv_am_dist, left_on=['estab_taz', 'orig_taz'], right_on=['orig', 'dest'], how='left')\n",
    "\n",
    "mdl_sut_routes = mdl_cvm_routes[mdl_cvm_routes['vehicle_type'] == 'SUT'].copy()\n",
    "mdl_sut_routes = pd.merge(mdl_sut_routes, sut_am_dist, left_on=['estab_taz', 'orig_taz'], right_on=['orig', 'dest'], how='left')\n",
    "\n",
    "mdl_mut_routes = mdl_cvm_routes[mdl_cvm_routes['vehicle_type'] == 'MUT'].copy()\n",
    "mdl_mut_routes = pd.merge(mdl_mut_routes, mut_am_dist, left_on=['estab_taz', 'orig_taz'], right_on=['orig', 'dest'], how='left')\n",
    "\n",
    "mdl_cvm_routes = pd.concat([mdl_lcv_routes, mdl_sut_routes, mdl_mut_routes], axis=0)\n",
    "mdl_cvm_routes = mdl_cvm_routes.rename(columns={'am_dist': 'dist_estab2orig'}) #distance from establishment to origin\n",
    "mdl_cvm_routes = mdl_cvm_routes.reset_index(drop=True)"
   ]
  },
  {
   "cell_type": "code",
   "execution_count": 19,
   "metadata": {},
   "outputs": [
    {
     "name": "stdout",
     "output_type": "stream",
     "text": [
      "227350\n",
      "227350\n"
     ]
    }
   ],
   "source": [
    "# merge skim distance with routes for each mode - from establishment taz to destination taz\n",
    "print(len(mdl_cvm_routes))\n",
    "mdl_lcv_routes = mdl_cvm_routes[mdl_cvm_routes['vehicle_type'] == 'LCV'].copy()\n",
    "mdl_lcv_routes = pd.merge(mdl_lcv_routes, lcv_md_dist, left_on=['estab_taz', 'dest_taz'], right_on=['orig', 'dest'], how='left')\n",
    "\n",
    "mdl_sut_routes = mdl_cvm_routes[mdl_cvm_routes['vehicle_type'] == 'SUT'].copy()\n",
    "mdl_sut_routes = pd.merge(mdl_sut_routes, sut_md_dist, left_on=['estab_taz', 'dest_taz'], right_on=['orig', 'dest'], how='left')\n",
    "\n",
    "mdl_mut_routes = mdl_cvm_routes[mdl_cvm_routes['vehicle_type'] == 'MUT'].copy()\n",
    "mdl_mut_routes = pd.merge(mdl_mut_routes, mut_md_dist, left_on=['estab_taz', 'dest_taz'], right_on=['orig', 'dest'], how='left')\n",
    "\n",
    "mdl_cvm_routes = pd.concat([mdl_lcv_routes, mdl_sut_routes, mdl_mut_routes], axis=0)\n",
    "mdl_cvm_routes = mdl_cvm_routes.rename(columns={'md_dist': 'dist_estab2dest'}) #distance from establishment to destination\n",
    "mdl_cvm_routes = mdl_cvm_routes.reset_index(drop=True)\n",
    "print(len(mdl_cvm_routes))"
   ]
  },
  {
   "cell_type": "code",
   "execution_count": 20,
   "metadata": {},
   "outputs": [],
   "source": [
    "# Summaries\n",
    "mdl_cvm_routes_nontnc = mdl_cvm_routes.loc[mdl_cvm_routes['is_tnc'] == False] # excluding TNC routes\n",
    "mdl_indg_orig_type = mdl_cvm_routes_nontnc.groupby(['origination_stop_type', 'business_type'])['route_id'].count().reset_index()\n",
    "mdl_veh_orig_type = mdl_cvm_routes_nontnc.groupby(['origination_stop_type', 'vehicle_type'])['route_id'].count().reset_index()\n",
    "mdl_veh_orig_type_mean_dist = mdl_cvm_routes_nontnc.groupby(['origination_stop_type'])['dist_estab2orig'].mean().reset_index()\n",
    "\n",
    "mdl_indg_dest_type = mdl_cvm_routes_nontnc.groupby(['terminal_stop_type', 'business_type'])['route_id'].count().reset_index()\n",
    "mdl_veh_dest_type = mdl_cvm_routes_nontnc.groupby(['terminal_stop_type', 'vehicle_type'])['route_id'].count().reset_index()\n",
    "mdl_veh_dest_type_mean_dist = mdl_cvm_routes_nontnc.groupby(['terminal_stop_type'])['dist_estab2dest'].mean().reset_index()"
   ]
  },
  {
   "cell_type": "markdown",
   "metadata": {},
   "source": [
    "## Next Stop location"
   ]
  },
  {
   "cell_type": "code",
   "execution_count": 21,
   "metadata": {},
   "outputs": [],
   "source": [
    "# create empty dataframes for the summary tables\n",
    "mdl_purposes = ['base', 'goods_delivery', 'goods_pickup', 'home', 'maintenance', 'originate', 'service', 'terminate']\n",
    "mdl_purp_smry_temp = pd.DataFrame(list(product(mdl_purposes, repeat=2)), columns=['trip_origin_purpose', 'trip_destination_purpose'])\n",
    "\n",
    "tod = ['AM', 'MD', 'PM', 'EV', 'EA']\n",
    "mdl_tod_smry_temp = pd.DataFrame(list(product(mdl_purposes, tod)), columns=['trip_destination_purpose', 'trip_tod'])\n",
    "mdl_dest_smry_temp = pd.DataFrame(list(mdl_purposes), columns=['trip_destination_purpose'])\n",
    "\n",
    "vtype = ['LCV' , 'SUT', 'MUT']\n",
    "mdl_vtype_smry_temp = pd.DataFrame(list(vtype), columns=['vehicle_type'])\n",
    "\n",
    "mdl_dtype = ['commercial', 'base', 'residential', 'warehouse', 'intermodal']\n",
    "mdl_dtype_smry_temp = pd.DataFrame(list(mdl_dtype), columns=['trip_destination_type'])"
   ]
  },
  {
   "cell_type": "code",
   "execution_count": 22,
   "metadata": {},
   "outputs": [],
   "source": [
    "# get distances from skims for each mode\n",
    "time_period = ['AM', 'MD', 'PM', 'EV', 'EA']\n",
    "\n",
    "for tp in time_period:\n",
    "    skims_dist = omx.open_file(_join(model_data_dir, \"traffic_skims_\" + tp + \".omx\"))\n",
    "    globals()['lcv_' + tp.lower() + '_dist'] = array2df(np.array(skims_dist['TRK_L_DIST__' + tp]), cols=['orig', 'dest', '_dist'])\n",
    "    globals()['sut_' + tp.lower() + '_dist'] = array2df(np.array(skims_dist['TRK_M_DIST__' + tp]), cols=['orig', 'dest', '_dist'])\n",
    "    globals()['mut_' + tp.lower() + '_dist'] = array2df(np.array(skims_dist['TRK_H_DIST__' + tp]), cols=['orig', 'dest', '_dist'])\n",
    "    globals()['tnc_' + tp.lower() + '_dist'] = array2df(np.array(skims_dist['TRK_L_DIST__' + tp]), cols=['orig', 'dest', '_dist'])\n",
    "    skims_dist.close()"
   ]
  },
  {
   "cell_type": "code",
   "execution_count": 23,
   "metadata": {},
   "outputs": [],
   "source": [
    "# read trips and routes from model output\n",
    "mdl_cvm_trips = pd.read_csv(_join(model_output_dir, \"cvm_cv_trips.csv\"))\n",
    "mdl_cvm_routes = pd.read_csv(_join(model_output_dir, \"cvm_routes.csv\"))\n",
    "\n",
    "mdl_cvm_trips['orig_taz'] = mdl_cvm_trips['trip_origin'].map(mgra2taz)\n",
    "mdl_cvm_trips['dest_taz'] = mdl_cvm_trips['trip_destination'].map(mgra2taz)\n",
    "\n",
    "# add TOD to model data\n",
    "mdl_cvm_trips['trip_tod'] = mdl_cvm_trips['trip_start_time'].map(tod_crwk)\n",
    "\n",
    "# merge with cvm routes\n",
    "mdl_cvm_trips = pd.merge(mdl_cvm_trips, mdl_cvm_routes, on='route_id', how='left')\n",
    "\n",
    "# filter CVM and TNC trips\n",
    "mdl_cvm_trips_nontnc = mdl_cvm_trips[mdl_cvm_trips['is_tnc'] == False]\n",
    "mdl_tnc_trips = mdl_cvm_trips[mdl_cvm_trips['is_tnc'] == True]"
   ]
  },
  {
   "cell_type": "code",
   "execution_count": 24,
   "metadata": {},
   "outputs": [
    {
     "name": "stdout",
     "output_type": "stream",
     "text": [
      "Before Merge 1552574\n",
      "After Merge 1552574\n"
     ]
    }
   ],
   "source": [
    "# add distance to trips\n",
    "print(f\"Before Merge {len(mdl_cvm_trips_nontnc)}\")\n",
    "\n",
    "time_period = ['AM', 'MD', 'PM', 'EV', 'EA']\n",
    "mdl_all_cvm_trips = []\n",
    "vehicles = ['lcv', 'sut', 'mut']\n",
    "for tp in time_period:\n",
    "    for vehicle in vehicles:\n",
    "        # print(tp, vehicle)\n",
    "        mdl_temp = mdl_cvm_trips_nontnc.loc[(mdl_cvm_trips['trip_tod'] == tp) & (mdl_cvm_trips['vehicle_type'] == vehicle.upper())]\n",
    "        mdl_trips = mdl_temp.merge(globals()[vehicle + '_' + tp.lower() + '_dist'], left_on=['orig_taz', 'dest_taz'], right_on=['orig', 'dest'], how='left')\n",
    "        mdl_trips = mdl_trips.drop(['orig', 'dest'], axis=1)\n",
    "        mdl_all_cvm_trips.append(mdl_trips)\n",
    "\n",
    "mdl_cvm_trips_test = pd.concat(mdl_all_cvm_trips)\n",
    "print(f\"After Merge {len(mdl_cvm_trips_test)}\")\n",
    "\n",
    "mdl_cvm_trips_nontnc = mdl_cvm_trips_test.copy()"
   ]
  },
  {
   "cell_type": "code",
   "execution_count": 25,
   "metadata": {},
   "outputs": [],
   "source": [
    "# summaries\n",
    "mdl_od_act_seg_name = mdl_cvm_trips_nontnc.groupby(['trip_origin_purpose', 'trip_destination_purpose'])['route_id'].count().reset_index()\n",
    "mdl_od_act_seg_name = mdl_purp_smry_temp.merge(mdl_od_act_seg_name, on=['trip_origin_purpose', 'trip_destination_purpose'], how='left')\n",
    "mdl_od_act_seg_name = mdl_od_act_seg_name.fillna(0)\n",
    "mdl_od_act_seg_name = mdl_od_act_seg_name.pivot(index='trip_origin_purpose', columns='trip_destination_purpose', values='route_id').reset_index()\n",
    "\n",
    "mdl_cvm_tod_smry = mdl_cvm_trips_nontnc.groupby(['trip_tod'])['route_id'].count().reset_index()\n",
    "mdl_cvm_dest_type = mdl_cvm_trips_nontnc.groupby(['trip_destination_type'])['route_id'].count().reset_index()\n",
    "mdl_cvm_mean_dist_vtype = mdl_cvm_trips_nontnc.groupby(['vehicle_type'])['_dist'].mean().reset_index()"
   ]
  },
  {
   "cell_type": "code",
   "execution_count": 26,
   "metadata": {},
   "outputs": [],
   "source": [
    "# Empty dataframes for the summary tables - TNC\n",
    "mdl_purposes = ['base', 'goods_delivery', 'goods_pickup', 'home', 'maintenance', 'originate', 'service', 'terminate']\n",
    "mdl_purp_smry_temp = pd.DataFrame(list(product(mdl_purposes, repeat=2)), columns=['trip_origin_purpose', 'trip_destination_purpose'])\n",
    "\n",
    "tod = ['AM', 'MD', 'PM', 'EV', 'EA']\n",
    "mdl_tod_smry_temp = pd.DataFrame(list(product(mdl_purposes, tod)), columns=['trip_destination_purpose', 'trip_tod'])\n",
    "mdl_dest_smry_temp = pd.DataFrame(list(mdl_purposes), columns=['trip_destination_purpose'])\n",
    "\n",
    "vtype = ['LCV' , 'SUT', 'MUT']\n",
    "mdl_vtype_smry_temp = pd.DataFrame(list(vtype), columns=['vehicle_type'])\n",
    "\n",
    "mdl_dtype = ['commercial', 'base', 'residential', 'warehouse', 'intermodal']\n",
    "mdl_dtype_smry_temp = pd.DataFrame(list(mdl_dtype), columns=['trip_destination_type'])"
   ]
  },
  {
   "cell_type": "code",
   "execution_count": 27,
   "metadata": {},
   "outputs": [
    {
     "name": "stdout",
     "output_type": "stream",
     "text": [
      "Before Merge 59784\n",
      "After Merge 59784\n"
     ]
    }
   ],
   "source": [
    "# add distance \n",
    "print(f\"Before Merge {len(mdl_tnc_trips)}\")\n",
    "time_period = ['AM', 'MD', 'PM', 'EV', 'EA']\n",
    "mdl_all_tnc_trips = []\n",
    "vehicles = 'tnc'\n",
    "for tp in time_period:\n",
    "        mdl_temp = mdl_tnc_trips.loc[(mdl_tnc_trips['trip_tod'] == tp)]\n",
    "        mdl_trips = mdl_temp.merge(globals()[vehicles + '_' + tp.lower() + '_dist'], left_on=['orig_taz', 'dest_taz'], right_on=['orig', 'dest'], how='left')\n",
    "        mdl_trips = mdl_trips.drop(['orig', 'dest'], axis=1)\n",
    "        mdl_all_tnc_trips.append(mdl_trips)\n",
    "\n",
    "mdl_tnc_trips_test = pd.concat(mdl_all_tnc_trips)\n",
    "print(f\"After Merge {len(mdl_tnc_trips_test)}\")\n",
    "\n",
    "mdl_tnc_trips = mdl_tnc_trips_test.copy()"
   ]
  },
  {
   "cell_type": "code",
   "execution_count": 28,
   "metadata": {},
   "outputs": [],
   "source": [
    "# summaries for TNC\n",
    "mdl_tnc_od_act_seg_name = mdl_tnc_trips.groupby(['trip_origin_purpose', 'trip_destination_purpose'])['route_id'].count().reset_index()\n",
    "mdl_tnc_od_act_seg_name = mdl_purp_smry_temp.merge(mdl_tnc_od_act_seg_name, on=['trip_origin_purpose', 'trip_destination_purpose'], how='left')\n",
    "mdl_tnc_od_act_seg_name = mdl_tnc_od_act_seg_name.fillna(0)\n",
    "mdl_tnc_od_act_seg_name = mdl_tnc_od_act_seg_name.pivot(index='trip_origin_purpose', columns='trip_destination_purpose', values='route_id').reset_index()\n",
    "\n",
    "mdl_tnc_tod_smry = mdl_tnc_trips.groupby(['trip_tod'])['route_id'].count().reset_index()\n",
    "mdl_dest_smry_temp2 = pd.DataFrame(list(mdl_purposes), columns=['trip_destination_type'])\n",
    "\n",
    "mdl_tnc_trp_dest_type = mdl_tnc_trips.groupby(['trip_destination_type'])['route_id'].count().reset_index()\n",
    "mdl_tnc_trp_dest_type = mdl_dtype_smry_temp.merge(mdl_tnc_trp_dest_type, on='trip_destination_type' , how = 'left')\n",
    "\n",
    "mdl_tnc_mean_dist_vtype = mdl_tnc_trips.groupby(['vehicle_type'])['_dist'].mean().reset_index()\n",
    "mdl_tnc_mean_dist_vtype = mdl_vtype_smry_temp.merge(mdl_tnc_mean_dist_vtype, on='vehicle_type' , how = 'left')"
   ]
  },
  {
   "cell_type": "code",
   "execution_count": 29,
   "metadata": {},
   "outputs": [
    {
     "name": "stderr",
     "output_type": "stream",
     "text": [
      "C:\\Users\\jgliebe\\AppData\\Local\\Temp\\ipykernel_11080\\642835158.py:8: SettingWithCopyWarning: \n",
      "A value is trying to be set on a copy of a slice from a DataFrame.\n",
      "Try using .loc[row_indexer,col_indexer] = value instead\n",
      "\n",
      "See the caveats in the documentation: https://pandas.pydata.org/pandas-docs/stable/user_guide/indexing.html#returning-a-view-versus-a-copy\n",
      "  cvm_trips_tnc['trip_start_time_period'] = 0\n",
      "C:\\Users\\jgliebe\\AppData\\Local\\Temp\\ipykernel_11080\\642835158.py:9: SettingWithCopyWarning: \n",
      "A value is trying to be set on a copy of a slice from a DataFrame.\n",
      "Try using .loc[row_indexer,col_indexer] = value instead\n",
      "\n",
      "See the caveats in the documentation: https://pandas.pydata.org/pandas-docs/stable/user_guide/indexing.html#returning-a-view-versus-a-copy\n",
      "  cvm_trips_tnc['trip_start_time_period'] = cvm_trips_tnc['trip_start_time'].map(tod_crwk)\n"
     ]
    }
   ],
   "source": [
    "# TNC Trips TOD\n",
    "cvm_trips = pd.read_csv(_join(model_output_dir, \"cvm_cv_trips.csv\"))\n",
    "cvm_routes = pd.read_csv(_join(model_output_dir, \"cvm_routes.csv\"))\n",
    "\n",
    "cvm_trips = pd.merge(cvm_trips, cvm_routes[['route_id', 'is_tnc']], on='route_id', how='left')\n",
    "cvm_trips_tnc = cvm_trips.loc[cvm_trips['is_tnc'] == True]\n",
    "\n",
    "cvm_trips_tnc['trip_start_time_period'] = 0\n",
    "cvm_trips_tnc['trip_start_time_period'] = cvm_trips_tnc['trip_start_time'].map(tod_crwk)\n",
    "\n",
    "mdl_cvm_trips_tnc_tod_smry = cvm_trips_tnc.groupby(['trip_start_time_period'])['route_id'].count().reset_index()"
   ]
  },
  {
   "cell_type": "code",
   "execution_count": 30,
   "metadata": {},
   "outputs": [],
   "source": [
    "# Create an Excel writer object\n",
    "writer = pd.ExcelWriter('Final_CVM_Model_Summary.xlsx')\n",
    "\n",
    "# Household Attractor Model\n",
    "mdl_hh_group.to_excel(writer, sheet_name='ModelData', startrow=2 , startcol=0, index=False)\n",
    "mdl_hh_Income.to_excel(writer, sheet_name='ModelData', startrow=2 , startcol=5, index=False)\n",
    "mdl_hh_Age_1.to_excel(writer, sheet_name='ModelData', startrow=2 , startcol=10, index=False)\n",
    "mdl_hh_Age_2.to_excel(writer, sheet_name='ModelData', startrow=2 , startcol=15, index=False)\n",
    "mdl_hh_Age_3.to_excel(writer, sheet_name='ModelData', startrow=2 , startcol=20, index=False)\n",
    "\n",
    "# Establishment Attractor Model\n",
    "mdl_est_att_ind_grp.to_excel(writer, sheet_name='ModelData', startrow=2 , startcol=25, index=False)\n",
    "mdl_est_att_ind_num.to_excel(writer, sheet_name='ModelData', startrow=2 , startcol=30, index=False)\n",
    "\n",
    "mdl_tot_rte_indgrp.to_excel(writer, sheet_name='ModelData', startrow=2 , startcol=35, index=False)\n",
    "mdl_tot_rte_indnum.to_excel(writer, sheet_name='ModelData', startrow=2 , startcol=40, index=False)\n",
    "\n",
    "# Route purpose and vehicle summary\n",
    "route_purp_veh_smry.to_excel(writer, sheet_name='ModelData', startrow=2 , startcol=45, index=False)\n",
    "\n",
    "# Route Start Time\n",
    "mdl_rte_start_time.to_excel(writer, sheet_name='ModelData', startrow=2 , startcol=50, index=False)\n",
    "mdl_rte_cvm_start_time_period.to_excel(writer, sheet_name='ModelData', startrow=2 , startcol=55, index=False)\n",
    "\n",
    "# TNC Route Generation\n",
    "mdl_cvm_tnc_rte_gen.to_excel(writer, sheet_name='ModelData', startrow=2 , startcol=60, index=False)\n",
    "\n",
    "# Origination and Terminal type\n",
    "mdl_indg_orig_type.to_excel(writer, sheet_name='ModelData', startrow=2 , startcol=65, index=False)\n",
    "mdl_veh_orig_type.to_excel(writer, sheet_name='ModelData', startrow=2 , startcol=70, index=False)\n",
    "mdl_veh_orig_type_mean_dist.to_excel(writer, sheet_name='ModelData', startrow=2 , startcol=75, index=False)\n",
    "mdl_indg_dest_type.to_excel(writer, sheet_name='ModelData', startrow=2 , startcol=81, index=False)\n",
    "mdl_veh_dest_type.to_excel(writer, sheet_name='ModelData', startrow=2 , startcol=86, index=False)\n",
    "mdl_veh_dest_type_mean_dist.to_excel(writer, sheet_name='ModelData', startrow=2 , startcol=91, index=False)\n",
    "\n",
    "# Next Stop Location\n",
    "mdl_od_act_seg_name.to_excel(writer, sheet_name='ModelData', startrow=2 , startcol=96, index=False)\n",
    "mdl_cvm_tod_smry.to_excel(writer, sheet_name='ModelData', startrow=2 , startcol=107, index=False)\n",
    "mdl_cvm_dest_type.to_excel(writer, sheet_name='ModelData', startrow=2 , startcol=111, index=False)\n",
    "mdl_cvm_mean_dist_vtype.to_excel(writer, sheet_name='ModelData', startrow=2 , startcol=115, index=False)\n",
    "\n",
    "# Next Stop Location TNC\n",
    "mdl_tnc_od_act_seg_name.to_excel(writer, sheet_name='ModelData', startrow=2 , startcol=120, index=False)\n",
    "mdl_tnc_tod_smry.to_excel(writer, sheet_name='ModelData', startrow=2 , startcol=131, index=False)\n",
    "mdl_tnc_trp_dest_type.to_excel(writer, sheet_name='ModelData', startrow=2 , startcol=135, index=False)\n",
    "mdl_tnc_mean_dist_vtype.to_excel(writer, sheet_name='ModelData', startrow=2 , startcol=139, index=False)\n",
    "\n",
    "# TNC Trips TOD\n",
    "mdl_tnc_route_start_time_period.to_excel(writer, sheet_name='ModelData', startrow=2 , startcol=144, index=False)\n",
    "\n",
    "# Close the Excel writer\n",
    "writer.close()"
   ]
  },
  {
   "cell_type": "code",
   "execution_count": 31,
   "metadata": {},
   "outputs": [
    {
     "name": "stdout",
     "output_type": "stream",
     "text": [
      "Complete!\n"
     ]
    }
   ],
   "source": [
    "print(\"Complete!\")"
   ]
  },
  {
   "cell_type": "code",
   "execution_count": null,
   "metadata": {},
   "outputs": [],
   "source": []
  }
 ],
 "metadata": {
  "kernelspec": {
   "display_name": "Python 3",
   "language": "python",
   "name": "python3"
  },
  "language_info": {
   "codemirror_mode": {
    "name": "ipython",
    "version": 3
   },
   "file_extension": ".py",
   "mimetype": "text/x-python",
   "name": "python",
   "nbconvert_exporter": "python",
   "pygments_lexer": "ipython3",
   "version": "3.7.4"
  }
 },
 "nbformat": 4,
 "nbformat_minor": 4
}
